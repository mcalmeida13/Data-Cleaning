{
  "nbformat": 4,
  "nbformat_minor": 0,
  "metadata": {
    "kernelspec": {
      "language": "python",
      "display_name": "Python 3",
      "name": "python3"
    },
    "language_info": {
      "pygments_lexer": "ipython3",
      "nbconvert_exporter": "python",
      "version": "3.6.4",
      "file_extension": ".py",
      "codemirror_mode": {
        "name": "ipython",
        "version": 3
      },
      "name": "python",
      "mimetype": "text/x-python"
    },
    "colab": {
      "name": "My news analysis.ipynb",
      "provenance": [],
      "collapsed_sections": [],
      "machine_shape": "hm",
      "include_colab_link": true
    }
  },
  "cells": [
    {
      "cell_type": "markdown",
      "metadata": {
        "id": "view-in-github",
        "colab_type": "text"
      },
      "source": [
        "<a href=\"https://colab.research.google.com/github/mcalmeida13/Data-Cleaning/blob/master/My_news_analysis.ipynb\" target=\"_parent\"><img src=\"https://colab.research.google.com/assets/colab-badge.svg\" alt=\"Open In Colab\"/></a>"
      ]
    },
    {
      "cell_type": "code",
      "metadata": {
        "_uuid": "8f2839f25d086af736a60e9eeb907d3b93b6e0e5",
        "_cell_guid": "b1076dfc-b9ad-4769-8c92-a6c4dae69d19",
        "trusted": true,
        "id": "o5fbV0yvMrc8",
        "colab_type": "code",
        "colab": {}
      },
      "source": [
        "# This Python 3 environment comes with many helpful analytics libraries installed\n",
        "# It is defined by the kaggle/python docker image: https://github.com/kaggle/docker-python\n",
        "# For example, here's several helpful packages to load in \n",
        "\n",
        "import numpy as np # linear algebra\n",
        "import pandas as pd # data processing, CSV file I/O (e.g. pd.read_csv)\n",
        "import json\n",
        "# Input data files are available in the \"../input/\" directory.\n",
        "# For example, running this (by clicking run or pressing Shift+Enter) will list all files under the input directory\n",
        "from PIL import Image\n",
        "from wordcloud import WordCloud, STOPWORDS, ImageColorGenerator\n",
        "import pandas as pd\n",
        "import numpy as np\n",
        "from zipfile import ZipFile\n",
        "import re\n",
        "from nltk.stem.snowball import SnowballStemmer\n",
        "from sklearn.pipeline import Pipeline\n",
        "from sklearn.linear_model import LogisticRegression\n",
        "from sklearn.svm import LinearSVC\n",
        "from sklearn.linear_model import PassiveAggressiveClassifier\n",
        "from sklearn.naive_bayes import MultinomialNB\n",
        "from sklearn.feature_extraction.text import TfidfVectorizer, CountVectorizer, TfidfTransformer\n",
        "from sklearn.neighbors import KNeighborsClassifier\n",
        "from sklearn.model_selection import GridSearchCV\n",
        "from sklearn.metrics import accuracy_score, confusion_matrix, roc_auc_score\n",
        "import nltk\n",
        "from nltk.stem import WordNetLemmatizer\n",
        "from nltk import word_tokenize\n",
        "from nltk.corpus import stopwords\n",
        "import string\n",
        "from sklearn.linear_model import SGDClassifier\n",
        "import logging\n",
        "from textblob import TextBlob\n",
        "from sklearn.preprocessing import LabelEncoder\n",
        "from sklearn.model_selection import train_test_split\n",
        "import matplotlib.pyplot as plt\n",
        "% matplotlib inline\n",
        "import os\n",
        "for dirname, _, filenames in os.walk('/kaggle/input'):\n",
        "    for filename in filenames:\n",
        "        print(os.path.join(dirname, filename))\n",
        "\n",
        "# Any results you write to the current directory are saved as output."
      ],
      "execution_count": 0,
      "outputs": []
    },
    {
      "cell_type": "code",
      "metadata": {
        "_uuid": "d629ff2d2480ee46fbb7e2d37f6b5fab8052498a",
        "_cell_guid": "79c7e3d0-c299-4dcb-8224-4455121ee9b0",
        "trusted": true,
        "id": "jg9C6r_nMrdM",
        "colab_type": "code",
        "colab": {}
      },
      "source": [
        "#filename = \"/kaggle/input/news-category-dataset/News_Category_Dataset_v2.json\""
      ],
      "execution_count": 0,
      "outputs": []
    },
    {
      "cell_type": "code",
      "metadata": {
        "trusted": true,
        "id": "mNosHk97MrdV",
        "colab_type": "code",
        "colab": {}
      },
      "source": [
        "df = pd.read_json(\"/content/News_Category_Dataset_v2.json\",lines = True)"
      ],
      "execution_count": 0,
      "outputs": []
    },
    {
      "cell_type": "code",
      "metadata": {
        "trusted": true,
        "id": "eWnoNvQ1Mrdd",
        "colab_type": "code",
        "colab": {
          "base_uri": "https://localhost:8080/",
          "height": 445
        },
        "outputId": "1e9bbb35-4970-4763-859f-bc6bf2b5dffc"
      },
      "source": [
        "df.head()"
      ],
      "execution_count": 4,
      "outputs": [
        {
          "output_type": "execute_result",
          "data": {
            "text/html": [
              "<div>\n",
              "<style scoped>\n",
              "    .dataframe tbody tr th:only-of-type {\n",
              "        vertical-align: middle;\n",
              "    }\n",
              "\n",
              "    .dataframe tbody tr th {\n",
              "        vertical-align: top;\n",
              "    }\n",
              "\n",
              "    .dataframe thead th {\n",
              "        text-align: right;\n",
              "    }\n",
              "</style>\n",
              "<table border=\"1\" class=\"dataframe\">\n",
              "  <thead>\n",
              "    <tr style=\"text-align: right;\">\n",
              "      <th></th>\n",
              "      <th>category</th>\n",
              "      <th>headline</th>\n",
              "      <th>authors</th>\n",
              "      <th>link</th>\n",
              "      <th>short_description</th>\n",
              "      <th>date</th>\n",
              "    </tr>\n",
              "  </thead>\n",
              "  <tbody>\n",
              "    <tr>\n",
              "      <th>0</th>\n",
              "      <td>CRIME</td>\n",
              "      <td>There Were 2 Mass Shootings In Texas Last Week...</td>\n",
              "      <td>Melissa Jeltsen</td>\n",
              "      <td>https://www.huffingtonpost.com/entry/texas-ama...</td>\n",
              "      <td>She left her husband. He killed their children...</td>\n",
              "      <td>2018-05-26</td>\n",
              "    </tr>\n",
              "    <tr>\n",
              "      <th>1</th>\n",
              "      <td>ENTERTAINMENT</td>\n",
              "      <td>Will Smith Joins Diplo And Nicky Jam For The 2...</td>\n",
              "      <td>Andy McDonald</td>\n",
              "      <td>https://www.huffingtonpost.com/entry/will-smit...</td>\n",
              "      <td>Of course it has a song.</td>\n",
              "      <td>2018-05-26</td>\n",
              "    </tr>\n",
              "    <tr>\n",
              "      <th>2</th>\n",
              "      <td>ENTERTAINMENT</td>\n",
              "      <td>Hugh Grant Marries For The First Time At Age 57</td>\n",
              "      <td>Ron Dicker</td>\n",
              "      <td>https://www.huffingtonpost.com/entry/hugh-gran...</td>\n",
              "      <td>The actor and his longtime girlfriend Anna Ebe...</td>\n",
              "      <td>2018-05-26</td>\n",
              "    </tr>\n",
              "    <tr>\n",
              "      <th>3</th>\n",
              "      <td>ENTERTAINMENT</td>\n",
              "      <td>Jim Carrey Blasts 'Castrato' Adam Schiff And D...</td>\n",
              "      <td>Ron Dicker</td>\n",
              "      <td>https://www.huffingtonpost.com/entry/jim-carre...</td>\n",
              "      <td>The actor gives Dems an ass-kicking for not fi...</td>\n",
              "      <td>2018-05-26</td>\n",
              "    </tr>\n",
              "    <tr>\n",
              "      <th>4</th>\n",
              "      <td>ENTERTAINMENT</td>\n",
              "      <td>Julianna Margulies Uses Donald Trump Poop Bags...</td>\n",
              "      <td>Ron Dicker</td>\n",
              "      <td>https://www.huffingtonpost.com/entry/julianna-...</td>\n",
              "      <td>The \"Dietland\" actress said using the bags is ...</td>\n",
              "      <td>2018-05-26</td>\n",
              "    </tr>\n",
              "  </tbody>\n",
              "</table>\n",
              "</div>"
            ],
            "text/plain": [
              "        category  ...       date\n",
              "0          CRIME  ... 2018-05-26\n",
              "1  ENTERTAINMENT  ... 2018-05-26\n",
              "2  ENTERTAINMENT  ... 2018-05-26\n",
              "3  ENTERTAINMENT  ... 2018-05-26\n",
              "4  ENTERTAINMENT  ... 2018-05-26\n",
              "\n",
              "[5 rows x 6 columns]"
            ]
          },
          "metadata": {
            "tags": []
          },
          "execution_count": 4
        }
      ]
    },
    {
      "cell_type": "code",
      "metadata": {
        "trusted": true,
        "id": "by7H0_P1Mrdl",
        "colab_type": "code",
        "colab": {
          "base_uri": "https://localhost:8080/",
          "height": 139
        },
        "outputId": "a72d49bb-f82f-4fcf-83d8-f787c5d765a9"
      },
      "source": [
        "#Data types\n",
        "df.dtypes"
      ],
      "execution_count": 5,
      "outputs": [
        {
          "output_type": "execute_result",
          "data": {
            "text/plain": [
              "category                     object\n",
              "headline                     object\n",
              "authors                      object\n",
              "link                         object\n",
              "short_description            object\n",
              "date                 datetime64[ns]\n",
              "dtype: object"
            ]
          },
          "metadata": {
            "tags": []
          },
          "execution_count": 5
        }
      ]
    },
    {
      "cell_type": "code",
      "metadata": {
        "trusted": true,
        "id": "qRY1Q34DMrdt",
        "colab_type": "code",
        "colab": {
          "base_uri": "https://localhost:8080/",
          "height": 337
        },
        "outputId": "2d42267d-f884-4c6f-b1ac-15085b5274c2"
      },
      "source": [
        "df.describe()"
      ],
      "execution_count": 6,
      "outputs": [
        {
          "output_type": "execute_result",
          "data": {
            "text/html": [
              "<div>\n",
              "<style scoped>\n",
              "    .dataframe tbody tr th:only-of-type {\n",
              "        vertical-align: middle;\n",
              "    }\n",
              "\n",
              "    .dataframe tbody tr th {\n",
              "        vertical-align: top;\n",
              "    }\n",
              "\n",
              "    .dataframe thead th {\n",
              "        text-align: right;\n",
              "    }\n",
              "</style>\n",
              "<table border=\"1\" class=\"dataframe\">\n",
              "  <thead>\n",
              "    <tr style=\"text-align: right;\">\n",
              "      <th></th>\n",
              "      <th>category</th>\n",
              "      <th>headline</th>\n",
              "      <th>authors</th>\n",
              "      <th>link</th>\n",
              "      <th>short_description</th>\n",
              "      <th>date</th>\n",
              "    </tr>\n",
              "  </thead>\n",
              "  <tbody>\n",
              "    <tr>\n",
              "      <th>count</th>\n",
              "      <td>200853</td>\n",
              "      <td>200853</td>\n",
              "      <td>200853</td>\n",
              "      <td>200853</td>\n",
              "      <td>200853</td>\n",
              "      <td>200853</td>\n",
              "    </tr>\n",
              "    <tr>\n",
              "      <th>unique</th>\n",
              "      <td>41</td>\n",
              "      <td>199344</td>\n",
              "      <td>27993</td>\n",
              "      <td>200812</td>\n",
              "      <td>178353</td>\n",
              "      <td>2309</td>\n",
              "    </tr>\n",
              "    <tr>\n",
              "      <th>top</th>\n",
              "      <td>POLITICS</td>\n",
              "      <td>Sunday Roundup</td>\n",
              "      <td></td>\n",
              "      <td>https://www.huffingtonpost.comhttp://www.newre...</td>\n",
              "      <td></td>\n",
              "      <td>2013-01-17 00:00:00</td>\n",
              "    </tr>\n",
              "    <tr>\n",
              "      <th>freq</th>\n",
              "      <td>32739</td>\n",
              "      <td>90</td>\n",
              "      <td>36620</td>\n",
              "      <td>2</td>\n",
              "      <td>19712</td>\n",
              "      <td>100</td>\n",
              "    </tr>\n",
              "    <tr>\n",
              "      <th>first</th>\n",
              "      <td>NaN</td>\n",
              "      <td>NaN</td>\n",
              "      <td>NaN</td>\n",
              "      <td>NaN</td>\n",
              "      <td>NaN</td>\n",
              "      <td>2012-01-28 00:00:00</td>\n",
              "    </tr>\n",
              "    <tr>\n",
              "      <th>last</th>\n",
              "      <td>NaN</td>\n",
              "      <td>NaN</td>\n",
              "      <td>NaN</td>\n",
              "      <td>NaN</td>\n",
              "      <td>NaN</td>\n",
              "      <td>2018-05-26 00:00:00</td>\n",
              "    </tr>\n",
              "  </tbody>\n",
              "</table>\n",
              "</div>"
            ],
            "text/plain": [
              "        category        headline  ... short_description                 date\n",
              "count     200853          200853  ...            200853               200853\n",
              "unique        41          199344  ...            178353                 2309\n",
              "top     POLITICS  Sunday Roundup  ...                    2013-01-17 00:00:00\n",
              "freq       32739              90  ...             19712                  100\n",
              "first        NaN             NaN  ...               NaN  2012-01-28 00:00:00\n",
              "last         NaN             NaN  ...               NaN  2018-05-26 00:00:00\n",
              "\n",
              "[6 rows x 6 columns]"
            ]
          },
          "metadata": {
            "tags": []
          },
          "execution_count": 6
        }
      ]
    },
    {
      "cell_type": "code",
      "metadata": {
        "trusted": true,
        "id": "dLJSgLjgMrd2",
        "colab_type": "code",
        "colab": {
          "base_uri": "https://localhost:8080/",
          "height": 202
        },
        "outputId": "0a588a93-269e-47f9-d95c-b2d8376e9e20"
      },
      "source": [
        "#Dropping somecolumns for bette visualization\n",
        "df.drop([\"authors\",\"link\",\"date\"], axis=1, inplace = True)\n",
        "df.head()"
      ],
      "execution_count": 7,
      "outputs": [
        {
          "output_type": "execute_result",
          "data": {
            "text/html": [
              "<div>\n",
              "<style scoped>\n",
              "    .dataframe tbody tr th:only-of-type {\n",
              "        vertical-align: middle;\n",
              "    }\n",
              "\n",
              "    .dataframe tbody tr th {\n",
              "        vertical-align: top;\n",
              "    }\n",
              "\n",
              "    .dataframe thead th {\n",
              "        text-align: right;\n",
              "    }\n",
              "</style>\n",
              "<table border=\"1\" class=\"dataframe\">\n",
              "  <thead>\n",
              "    <tr style=\"text-align: right;\">\n",
              "      <th></th>\n",
              "      <th>category</th>\n",
              "      <th>headline</th>\n",
              "      <th>short_description</th>\n",
              "    </tr>\n",
              "  </thead>\n",
              "  <tbody>\n",
              "    <tr>\n",
              "      <th>0</th>\n",
              "      <td>CRIME</td>\n",
              "      <td>There Were 2 Mass Shootings In Texas Last Week...</td>\n",
              "      <td>She left her husband. He killed their children...</td>\n",
              "    </tr>\n",
              "    <tr>\n",
              "      <th>1</th>\n",
              "      <td>ENTERTAINMENT</td>\n",
              "      <td>Will Smith Joins Diplo And Nicky Jam For The 2...</td>\n",
              "      <td>Of course it has a song.</td>\n",
              "    </tr>\n",
              "    <tr>\n",
              "      <th>2</th>\n",
              "      <td>ENTERTAINMENT</td>\n",
              "      <td>Hugh Grant Marries For The First Time At Age 57</td>\n",
              "      <td>The actor and his longtime girlfriend Anna Ebe...</td>\n",
              "    </tr>\n",
              "    <tr>\n",
              "      <th>3</th>\n",
              "      <td>ENTERTAINMENT</td>\n",
              "      <td>Jim Carrey Blasts 'Castrato' Adam Schiff And D...</td>\n",
              "      <td>The actor gives Dems an ass-kicking for not fi...</td>\n",
              "    </tr>\n",
              "    <tr>\n",
              "      <th>4</th>\n",
              "      <td>ENTERTAINMENT</td>\n",
              "      <td>Julianna Margulies Uses Donald Trump Poop Bags...</td>\n",
              "      <td>The \"Dietland\" actress said using the bags is ...</td>\n",
              "    </tr>\n",
              "  </tbody>\n",
              "</table>\n",
              "</div>"
            ],
            "text/plain": [
              "        category  ...                                  short_description\n",
              "0          CRIME  ...  She left her husband. He killed their children...\n",
              "1  ENTERTAINMENT  ...                           Of course it has a song.\n",
              "2  ENTERTAINMENT  ...  The actor and his longtime girlfriend Anna Ebe...\n",
              "3  ENTERTAINMENT  ...  The actor gives Dems an ass-kicking for not fi...\n",
              "4  ENTERTAINMENT  ...  The \"Dietland\" actress said using the bags is ...\n",
              "\n",
              "[5 rows x 3 columns]"
            ]
          },
          "metadata": {
            "tags": []
          },
          "execution_count": 7
        }
      ]
    },
    {
      "cell_type": "code",
      "metadata": {
        "trusted": true,
        "id": "X_d-s6I_MreA",
        "colab_type": "code",
        "colab": {
          "base_uri": "https://localhost:8080/",
          "height": 171
        },
        "outputId": "fa8e3a46-4884-4384-d2b4-5be686f81def"
      },
      "source": [
        "df.describe()"
      ],
      "execution_count": 8,
      "outputs": [
        {
          "output_type": "execute_result",
          "data": {
            "text/html": [
              "<div>\n",
              "<style scoped>\n",
              "    .dataframe tbody tr th:only-of-type {\n",
              "        vertical-align: middle;\n",
              "    }\n",
              "\n",
              "    .dataframe tbody tr th {\n",
              "        vertical-align: top;\n",
              "    }\n",
              "\n",
              "    .dataframe thead th {\n",
              "        text-align: right;\n",
              "    }\n",
              "</style>\n",
              "<table border=\"1\" class=\"dataframe\">\n",
              "  <thead>\n",
              "    <tr style=\"text-align: right;\">\n",
              "      <th></th>\n",
              "      <th>category</th>\n",
              "      <th>headline</th>\n",
              "      <th>short_description</th>\n",
              "    </tr>\n",
              "  </thead>\n",
              "  <tbody>\n",
              "    <tr>\n",
              "      <th>count</th>\n",
              "      <td>200853</td>\n",
              "      <td>200853</td>\n",
              "      <td>200853</td>\n",
              "    </tr>\n",
              "    <tr>\n",
              "      <th>unique</th>\n",
              "      <td>41</td>\n",
              "      <td>199344</td>\n",
              "      <td>178353</td>\n",
              "    </tr>\n",
              "    <tr>\n",
              "      <th>top</th>\n",
              "      <td>POLITICS</td>\n",
              "      <td>Sunday Roundup</td>\n",
              "      <td></td>\n",
              "    </tr>\n",
              "    <tr>\n",
              "      <th>freq</th>\n",
              "      <td>32739</td>\n",
              "      <td>90</td>\n",
              "      <td>19712</td>\n",
              "    </tr>\n",
              "  </tbody>\n",
              "</table>\n",
              "</div>"
            ],
            "text/plain": [
              "        category        headline short_description\n",
              "count     200853          200853            200853\n",
              "unique        41          199344            178353\n",
              "top     POLITICS  Sunday Roundup                  \n",
              "freq       32739              90             19712"
            ]
          },
          "metadata": {
            "tags": []
          },
          "execution_count": 8
        }
      ]
    },
    {
      "cell_type": "code",
      "metadata": {
        "trusted": true,
        "id": "n2Asnws8MreE",
        "colab_type": "code",
        "colab": {
          "base_uri": "https://localhost:8080/",
          "height": 1000
        },
        "outputId": "ef8ff5a3-da33-479a-8ead-7f7aa42a6ddc"
      },
      "source": [
        "categories_count=df['category'].value_counts()\n",
        "categories_count.to_frame()\n"
      ],
      "execution_count": 9,
      "outputs": [
        {
          "output_type": "execute_result",
          "data": {
            "text/html": [
              "<div>\n",
              "<style scoped>\n",
              "    .dataframe tbody tr th:only-of-type {\n",
              "        vertical-align: middle;\n",
              "    }\n",
              "\n",
              "    .dataframe tbody tr th {\n",
              "        vertical-align: top;\n",
              "    }\n",
              "\n",
              "    .dataframe thead th {\n",
              "        text-align: right;\n",
              "    }\n",
              "</style>\n",
              "<table border=\"1\" class=\"dataframe\">\n",
              "  <thead>\n",
              "    <tr style=\"text-align: right;\">\n",
              "      <th></th>\n",
              "      <th>category</th>\n",
              "    </tr>\n",
              "  </thead>\n",
              "  <tbody>\n",
              "    <tr>\n",
              "      <th>POLITICS</th>\n",
              "      <td>32739</td>\n",
              "    </tr>\n",
              "    <tr>\n",
              "      <th>WELLNESS</th>\n",
              "      <td>17827</td>\n",
              "    </tr>\n",
              "    <tr>\n",
              "      <th>ENTERTAINMENT</th>\n",
              "      <td>16058</td>\n",
              "    </tr>\n",
              "    <tr>\n",
              "      <th>TRAVEL</th>\n",
              "      <td>9887</td>\n",
              "    </tr>\n",
              "    <tr>\n",
              "      <th>STYLE &amp; BEAUTY</th>\n",
              "      <td>9649</td>\n",
              "    </tr>\n",
              "    <tr>\n",
              "      <th>PARENTING</th>\n",
              "      <td>8677</td>\n",
              "    </tr>\n",
              "    <tr>\n",
              "      <th>HEALTHY LIVING</th>\n",
              "      <td>6694</td>\n",
              "    </tr>\n",
              "    <tr>\n",
              "      <th>QUEER VOICES</th>\n",
              "      <td>6314</td>\n",
              "    </tr>\n",
              "    <tr>\n",
              "      <th>FOOD &amp; DRINK</th>\n",
              "      <td>6226</td>\n",
              "    </tr>\n",
              "    <tr>\n",
              "      <th>BUSINESS</th>\n",
              "      <td>5937</td>\n",
              "    </tr>\n",
              "    <tr>\n",
              "      <th>COMEDY</th>\n",
              "      <td>5175</td>\n",
              "    </tr>\n",
              "    <tr>\n",
              "      <th>SPORTS</th>\n",
              "      <td>4884</td>\n",
              "    </tr>\n",
              "    <tr>\n",
              "      <th>BLACK VOICES</th>\n",
              "      <td>4528</td>\n",
              "    </tr>\n",
              "    <tr>\n",
              "      <th>HOME &amp; LIVING</th>\n",
              "      <td>4195</td>\n",
              "    </tr>\n",
              "    <tr>\n",
              "      <th>PARENTS</th>\n",
              "      <td>3955</td>\n",
              "    </tr>\n",
              "    <tr>\n",
              "      <th>THE WORLDPOST</th>\n",
              "      <td>3664</td>\n",
              "    </tr>\n",
              "    <tr>\n",
              "      <th>WEDDINGS</th>\n",
              "      <td>3651</td>\n",
              "    </tr>\n",
              "    <tr>\n",
              "      <th>WOMEN</th>\n",
              "      <td>3490</td>\n",
              "    </tr>\n",
              "    <tr>\n",
              "      <th>IMPACT</th>\n",
              "      <td>3459</td>\n",
              "    </tr>\n",
              "    <tr>\n",
              "      <th>DIVORCE</th>\n",
              "      <td>3426</td>\n",
              "    </tr>\n",
              "    <tr>\n",
              "      <th>CRIME</th>\n",
              "      <td>3405</td>\n",
              "    </tr>\n",
              "    <tr>\n",
              "      <th>MEDIA</th>\n",
              "      <td>2815</td>\n",
              "    </tr>\n",
              "    <tr>\n",
              "      <th>WEIRD NEWS</th>\n",
              "      <td>2670</td>\n",
              "    </tr>\n",
              "    <tr>\n",
              "      <th>GREEN</th>\n",
              "      <td>2622</td>\n",
              "    </tr>\n",
              "    <tr>\n",
              "      <th>WORLDPOST</th>\n",
              "      <td>2579</td>\n",
              "    </tr>\n",
              "    <tr>\n",
              "      <th>RELIGION</th>\n",
              "      <td>2556</td>\n",
              "    </tr>\n",
              "    <tr>\n",
              "      <th>STYLE</th>\n",
              "      <td>2254</td>\n",
              "    </tr>\n",
              "    <tr>\n",
              "      <th>SCIENCE</th>\n",
              "      <td>2178</td>\n",
              "    </tr>\n",
              "    <tr>\n",
              "      <th>WORLD NEWS</th>\n",
              "      <td>2177</td>\n",
              "    </tr>\n",
              "    <tr>\n",
              "      <th>TASTE</th>\n",
              "      <td>2096</td>\n",
              "    </tr>\n",
              "    <tr>\n",
              "      <th>TECH</th>\n",
              "      <td>2082</td>\n",
              "    </tr>\n",
              "    <tr>\n",
              "      <th>MONEY</th>\n",
              "      <td>1707</td>\n",
              "    </tr>\n",
              "    <tr>\n",
              "      <th>ARTS</th>\n",
              "      <td>1509</td>\n",
              "    </tr>\n",
              "    <tr>\n",
              "      <th>FIFTY</th>\n",
              "      <td>1401</td>\n",
              "    </tr>\n",
              "    <tr>\n",
              "      <th>GOOD NEWS</th>\n",
              "      <td>1398</td>\n",
              "    </tr>\n",
              "    <tr>\n",
              "      <th>ARTS &amp; CULTURE</th>\n",
              "      <td>1339</td>\n",
              "    </tr>\n",
              "    <tr>\n",
              "      <th>ENVIRONMENT</th>\n",
              "      <td>1323</td>\n",
              "    </tr>\n",
              "    <tr>\n",
              "      <th>COLLEGE</th>\n",
              "      <td>1144</td>\n",
              "    </tr>\n",
              "    <tr>\n",
              "      <th>LATINO VOICES</th>\n",
              "      <td>1129</td>\n",
              "    </tr>\n",
              "    <tr>\n",
              "      <th>CULTURE &amp; ARTS</th>\n",
              "      <td>1030</td>\n",
              "    </tr>\n",
              "    <tr>\n",
              "      <th>EDUCATION</th>\n",
              "      <td>1004</td>\n",
              "    </tr>\n",
              "  </tbody>\n",
              "</table>\n",
              "</div>"
            ],
            "text/plain": [
              "                category\n",
              "POLITICS           32739\n",
              "WELLNESS           17827\n",
              "ENTERTAINMENT      16058\n",
              "TRAVEL              9887\n",
              "STYLE & BEAUTY      9649\n",
              "PARENTING           8677\n",
              "HEALTHY LIVING      6694\n",
              "QUEER VOICES        6314\n",
              "FOOD & DRINK        6226\n",
              "BUSINESS            5937\n",
              "COMEDY              5175\n",
              "SPORTS              4884\n",
              "BLACK VOICES        4528\n",
              "HOME & LIVING       4195\n",
              "PARENTS             3955\n",
              "THE WORLDPOST       3664\n",
              "WEDDINGS            3651\n",
              "WOMEN               3490\n",
              "IMPACT              3459\n",
              "DIVORCE             3426\n",
              "CRIME               3405\n",
              "MEDIA               2815\n",
              "WEIRD NEWS          2670\n",
              "GREEN               2622\n",
              "WORLDPOST           2579\n",
              "RELIGION            2556\n",
              "STYLE               2254\n",
              "SCIENCE             2178\n",
              "WORLD NEWS          2177\n",
              "TASTE               2096\n",
              "TECH                2082\n",
              "MONEY               1707\n",
              "ARTS                1509\n",
              "FIFTY               1401\n",
              "GOOD NEWS           1398\n",
              "ARTS & CULTURE      1339\n",
              "ENVIRONMENT         1323\n",
              "COLLEGE             1144\n",
              "LATINO VOICES       1129\n",
              "CULTURE & ARTS      1030\n",
              "EDUCATION           1004"
            ]
          },
          "metadata": {
            "tags": []
          },
          "execution_count": 9
        }
      ]
    },
    {
      "cell_type": "code",
      "metadata": {
        "trusted": true,
        "id": "GiqfuoEJMreO",
        "colab_type": "code",
        "colab": {
          "base_uri": "https://localhost:8080/",
          "height": 626
        },
        "outputId": "577e9d0f-2d5e-45a4-f16e-ce2c52919de9"
      },
      "source": [
        "plt.figure(figsize=(15,10))\n",
        "categories_count.sort_values(ascending=False).plot.bar()\n",
        "plt.xticks(rotation=50)\n",
        "plt.xlabel(\"Category\")\n",
        "plt.ylabel(\"Number articles\")\n",
        "plt.show()"
      ],
      "execution_count": 10,
      "outputs": [
        {
          "output_type": "display_data",
          "data": {
            "image/png": "[encoded data removed]",
            "text/plain": [
              "<Figure size 1080x720 with 1 Axes>"
            ]
          },
          "metadata": {
            "tags": []
          }
        }
      ]
    },
    {
      "cell_type": "markdown",
      "metadata": {
        "id": "EqGYcDkVWdBJ",
        "colab_type": "text"
      },
      "source": [
        "Set `\"WORLDPOST\"` and `\"THE WORLDPOST\"` as the same category"
      ]
    },
    {
      "cell_type": "code",
      "metadata": {
        "id": "d6LAienOaYWK",
        "colab_type": "code",
        "colab": {}
      },
      "source": [
        "df.category = df.category.map(lambda x: \"WORLDPOST\" if x == \"THE WORLDPOST\" else x)"
      ],
      "execution_count": 0,
      "outputs": []
    },
    {
      "cell_type": "code",
      "metadata": {
        "trusted": true,
        "id": "2sjsjTPdMreT",
        "colab_type": "code",
        "colab": {
          "base_uri": "https://localhost:8080/",
          "height": 289
        },
        "outputId": "0436d067-3334-4dbf-df75-5311da759254"
      },
      "source": [
        "df['category_id'] = df['category'].factorize()[0]\n",
        "from io import StringIO\n",
        "category_id_df = df[['category', 'category_id']].drop_duplicates().sort_values('category_id')\n",
        "category_to_id = dict(category_id_df.values)\n",
        "id_to_category = dict(category_id_df[['category_id', 'category']].values)\n",
        "df.head()"
      ],
      "execution_count": 12,
      "outputs": [
        {
          "output_type": "execute_result",
          "data": {
            "text/html": [
              "<div>\n",
              "<style scoped>\n",
              "    .dataframe tbody tr th:only-of-type {\n",
              "        vertical-align: middle;\n",
              "    }\n",
              "\n",
              "    .dataframe tbody tr th {\n",
              "        vertical-align: top;\n",
              "    }\n",
              "\n",
              "    .dataframe thead th {\n",
              "        text-align: right;\n",
              "    }\n",
              "</style>\n",
              "<table border=\"1\" class=\"dataframe\">\n",
              "  <thead>\n",
              "    <tr style=\"text-align: right;\">\n",
              "      <th></th>\n",
              "      <th>category</th>\n",
              "      <th>headline</th>\n",
              "      <th>short_description</th>\n",
              "      <th>category_id</th>\n",
              "    </tr>\n",
              "  </thead>\n",
              "  <tbody>\n",
              "    <tr>\n",
              "      <th>0</th>\n",
              "      <td>CRIME</td>\n",
              "      <td>There Were 2 Mass Shootings In Texas Last Week...</td>\n",
              "      <td>She left her husband. He killed their children...</td>\n",
              "      <td>0</td>\n",
              "    </tr>\n",
              "    <tr>\n",
              "      <th>1</th>\n",
              "      <td>ENTERTAINMENT</td>\n",
              "      <td>Will Smith Joins Diplo And Nicky Jam For The 2...</td>\n",
              "      <td>Of course it has a song.</td>\n",
              "      <td>1</td>\n",
              "    </tr>\n",
              "    <tr>\n",
              "      <th>2</th>\n",
              "      <td>ENTERTAINMENT</td>\n",
              "      <td>Hugh Grant Marries For The First Time At Age 57</td>\n",
              "      <td>The actor and his longtime girlfriend Anna Ebe...</td>\n",
              "      <td>1</td>\n",
              "    </tr>\n",
              "    <tr>\n",
              "      <th>3</th>\n",
              "      <td>ENTERTAINMENT</td>\n",
              "      <td>Jim Carrey Blasts 'Castrato' Adam Schiff And D...</td>\n",
              "      <td>The actor gives Dems an ass-kicking for not fi...</td>\n",
              "      <td>1</td>\n",
              "    </tr>\n",
              "    <tr>\n",
              "      <th>4</th>\n",
              "      <td>ENTERTAINMENT</td>\n",
              "      <td>Julianna Margulies Uses Donald Trump Poop Bags...</td>\n",
              "      <td>The \"Dietland\" actress said using the bags is ...</td>\n",
              "      <td>1</td>\n",
              "    </tr>\n",
              "  </tbody>\n",
              "</table>\n",
              "</div>"
            ],
            "text/plain": [
              "        category  ... category_id\n",
              "0          CRIME  ...           0\n",
              "1  ENTERTAINMENT  ...           1\n",
              "2  ENTERTAINMENT  ...           1\n",
              "3  ENTERTAINMENT  ...           1\n",
              "4  ENTERTAINMENT  ...           1\n",
              "\n",
              "[5 rows x 4 columns]"
            ]
          },
          "metadata": {
            "tags": []
          },
          "execution_count": 12
        }
      ]
    },
    {
      "cell_type": "code",
      "metadata": {
        "trusted": true,
        "id": "7lXFV6xWU4cg",
        "colab_type": "code",
        "outputId": "4e2ae94a-f214-4b46-fffc-3e8d46c5ccda",
        "colab": {
          "base_uri": "https://localhost:8080/",
          "height": 1000
        }
      },
      "source": [
        "df2 = df[['category','category_id']]\n",
        "codes = df2.drop_duplicates(keep = 'last', inplace=False).sort_values(by = 'category_id')\n",
        "codes"
      ],
      "execution_count": 13,
      "outputs": [
        {
          "output_type": "execute_result",
          "data": {
            "text/html": [
              "<div>\n",
              "<style scoped>\n",
              "    .dataframe tbody tr th:only-of-type {\n",
              "        vertical-align: middle;\n",
              "    }\n",
              "\n",
              "    .dataframe tbody tr th {\n",
              "        vertical-align: top;\n",
              "    }\n",
              "\n",
              "    .dataframe thead th {\n",
              "        text-align: right;\n",
              "    }\n",
              "</style>\n",
              "<table border=\"1\" class=\"dataframe\">\n",
              "  <thead>\n",
              "    <tr style=\"text-align: right;\">\n",
              "      <th></th>\n",
              "      <th>category</th>\n",
              "      <th>category_id</th>\n",
              "    </tr>\n",
              "  </thead>\n",
              "  <tbody>\n",
              "    <tr>\n",
              "      <th>199539</th>\n",
              "      <td>CRIME</td>\n",
              "      <td>0</td>\n",
              "    </tr>\n",
              "    <tr>\n",
              "      <th>200839</th>\n",
              "      <td>ENTERTAINMENT</td>\n",
              "      <td>1</td>\n",
              "    </tr>\n",
              "    <tr>\n",
              "      <th>29757</th>\n",
              "      <td>WORLD NEWS</td>\n",
              "      <td>2</td>\n",
              "    </tr>\n",
              "    <tr>\n",
              "      <th>200827</th>\n",
              "      <td>IMPACT</td>\n",
              "      <td>3</td>\n",
              "    </tr>\n",
              "    <tr>\n",
              "      <th>124983</th>\n",
              "      <td>POLITICS</td>\n",
              "      <td>4</td>\n",
              "    </tr>\n",
              "    <tr>\n",
              "      <th>124863</th>\n",
              "      <td>WEIRD NEWS</td>\n",
              "      <td>5</td>\n",
              "    </tr>\n",
              "    <tr>\n",
              "      <th>200752</th>\n",
              "      <td>BLACK VOICES</td>\n",
              "      <td>6</td>\n",
              "    </tr>\n",
              "    <tr>\n",
              "      <th>124984</th>\n",
              "      <td>WOMEN</td>\n",
              "      <td>7</td>\n",
              "    </tr>\n",
              "    <tr>\n",
              "      <th>200814</th>\n",
              "      <td>COMEDY</td>\n",
              "      <td>8</td>\n",
              "    </tr>\n",
              "    <tr>\n",
              "      <th>200824</th>\n",
              "      <td>QUEER VOICES</td>\n",
              "      <td>9</td>\n",
              "    </tr>\n",
              "    <tr>\n",
              "      <th>200852</th>\n",
              "      <td>SPORTS</td>\n",
              "      <td>10</td>\n",
              "    </tr>\n",
              "    <tr>\n",
              "      <th>200837</th>\n",
              "      <td>BUSINESS</td>\n",
              "      <td>11</td>\n",
              "    </tr>\n",
              "    <tr>\n",
              "      <th>200804</th>\n",
              "      <td>TRAVEL</td>\n",
              "      <td>12</td>\n",
              "    </tr>\n",
              "    <tr>\n",
              "      <th>124987</th>\n",
              "      <td>MEDIA</td>\n",
              "      <td>13</td>\n",
              "    </tr>\n",
              "    <tr>\n",
              "      <th>200848</th>\n",
              "      <td>TECH</td>\n",
              "      <td>14</td>\n",
              "    </tr>\n",
              "    <tr>\n",
              "      <th>124954</th>\n",
              "      <td>RELIGION</td>\n",
              "      <td>15</td>\n",
              "    </tr>\n",
              "    <tr>\n",
              "      <th>200818</th>\n",
              "      <td>SCIENCE</td>\n",
              "      <td>16</td>\n",
              "    </tr>\n",
              "    <tr>\n",
              "      <th>124667</th>\n",
              "      <td>LATINO VOICES</td>\n",
              "      <td>17</td>\n",
              "    </tr>\n",
              "    <tr>\n",
              "      <th>124964</th>\n",
              "      <td>EDUCATION</td>\n",
              "      <td>18</td>\n",
              "    </tr>\n",
              "    <tr>\n",
              "      <th>124965</th>\n",
              "      <td>COLLEGE</td>\n",
              "      <td>19</td>\n",
              "    </tr>\n",
              "    <tr>\n",
              "      <th>124974</th>\n",
              "      <td>PARENTS</td>\n",
              "      <td>20</td>\n",
              "    </tr>\n",
              "    <tr>\n",
              "      <th>86792</th>\n",
              "      <td>ARTS &amp; CULTURE</td>\n",
              "      <td>21</td>\n",
              "    </tr>\n",
              "    <tr>\n",
              "      <th>124944</th>\n",
              "      <td>STYLE</td>\n",
              "      <td>22</td>\n",
              "    </tr>\n",
              "    <tr>\n",
              "      <th>124948</th>\n",
              "      <td>GREEN</td>\n",
              "      <td>23</td>\n",
              "    </tr>\n",
              "    <tr>\n",
              "      <th>124985</th>\n",
              "      <td>TASTE</td>\n",
              "      <td>24</td>\n",
              "    </tr>\n",
              "    <tr>\n",
              "      <th>124988</th>\n",
              "      <td>HEALTHY LIVING</td>\n",
              "      <td>25</td>\n",
              "    </tr>\n",
              "    <tr>\n",
              "      <th>124973</th>\n",
              "      <td>WORLDPOST</td>\n",
              "      <td>26</td>\n",
              "    </tr>\n",
              "    <tr>\n",
              "      <th>124654</th>\n",
              "      <td>GOOD NEWS</td>\n",
              "      <td>27</td>\n",
              "    </tr>\n",
              "    <tr>\n",
              "      <th>124916</th>\n",
              "      <td>FIFTY</td>\n",
              "      <td>28</td>\n",
              "    </tr>\n",
              "    <tr>\n",
              "      <th>124977</th>\n",
              "      <td>ARTS</td>\n",
              "      <td>29</td>\n",
              "    </tr>\n",
              "    <tr>\n",
              "      <th>200805</th>\n",
              "      <td>WELLNESS</td>\n",
              "      <td>30</td>\n",
              "    </tr>\n",
              "    <tr>\n",
              "      <th>200807</th>\n",
              "      <td>PARENTING</td>\n",
              "      <td>31</td>\n",
              "    </tr>\n",
              "    <tr>\n",
              "      <th>200803</th>\n",
              "      <td>HOME &amp; LIVING</td>\n",
              "      <td>32</td>\n",
              "    </tr>\n",
              "    <tr>\n",
              "      <th>200806</th>\n",
              "      <td>STYLE &amp; BEAUTY</td>\n",
              "      <td>33</td>\n",
              "    </tr>\n",
              "    <tr>\n",
              "      <th>200705</th>\n",
              "      <td>DIVORCE</td>\n",
              "      <td>34</td>\n",
              "    </tr>\n",
              "    <tr>\n",
              "      <th>200739</th>\n",
              "      <td>WEDDINGS</td>\n",
              "      <td>35</td>\n",
              "    </tr>\n",
              "    <tr>\n",
              "      <th>200658</th>\n",
              "      <td>FOOD &amp; DRINK</td>\n",
              "      <td>36</td>\n",
              "    </tr>\n",
              "    <tr>\n",
              "      <th>197857</th>\n",
              "      <td>MONEY</td>\n",
              "      <td>37</td>\n",
              "    </tr>\n",
              "    <tr>\n",
              "      <th>200832</th>\n",
              "      <td>ENVIRONMENT</td>\n",
              "      <td>38</td>\n",
              "    </tr>\n",
              "    <tr>\n",
              "      <th>200842</th>\n",
              "      <td>CULTURE &amp; ARTS</td>\n",
              "      <td>39</td>\n",
              "    </tr>\n",
              "  </tbody>\n",
              "</table>\n",
              "</div>"
            ],
            "text/plain": [
              "              category  category_id\n",
              "199539           CRIME            0\n",
              "200839   ENTERTAINMENT            1\n",
              "29757       WORLD NEWS            2\n",
              "200827          IMPACT            3\n",
              "124983        POLITICS            4\n",
              "124863      WEIRD NEWS            5\n",
              "200752    BLACK VOICES            6\n",
              "124984           WOMEN            7\n",
              "200814          COMEDY            8\n",
              "200824    QUEER VOICES            9\n",
              "200852          SPORTS           10\n",
              "200837        BUSINESS           11\n",
              "200804          TRAVEL           12\n",
              "124987           MEDIA           13\n",
              "200848            TECH           14\n",
              "124954        RELIGION           15\n",
              "200818         SCIENCE           16\n",
              "124667   LATINO VOICES           17\n",
              "124964       EDUCATION           18\n",
              "124965         COLLEGE           19\n",
              "124974         PARENTS           20\n",
              "86792   ARTS & CULTURE           21\n",
              "124944           STYLE           22\n",
              "124948           GREEN           23\n",
              "124985           TASTE           24\n",
              "124988  HEALTHY LIVING           25\n",
              "124973       WORLDPOST           26\n",
              "124654       GOOD NEWS           27\n",
              "124916           FIFTY           28\n",
              "124977            ARTS           29\n",
              "200805        WELLNESS           30\n",
              "200807       PARENTING           31\n",
              "200803   HOME & LIVING           32\n",
              "200806  STYLE & BEAUTY           33\n",
              "200705         DIVORCE           34\n",
              "200739        WEDDINGS           35\n",
              "200658    FOOD & DRINK           36\n",
              "197857           MONEY           37\n",
              "200832     ENVIRONMENT           38\n",
              "200842  CULTURE & ARTS           39"
            ]
          },
          "metadata": {
            "tags": []
          },
          "execution_count": 13
        }
      ]
    },
    {
      "cell_type": "markdown",
      "metadata": {
        "id": "a_cS5ptLQx3q",
        "colab_type": "text"
      },
      "source": [
        "# Data Pre-Processing"
      ]
    },
    {
      "cell_type": "code",
      "metadata": {
        "colab_type": "code",
        "id": "3WdiRITqTqE2",
        "colab": {
          "base_uri": "https://localhost:8080/",
          "height": 208
        },
        "outputId": "09588e40-b3c5-4728-e33c-1166189cc115"
      },
      "source": [
        "import nltk\n",
        "nltk.download('punkt')\n",
        "nltk.download('stopwords')\n",
        "nltk.download('wordnet')\n",
        "nltk.download('averaged_perceptron_tagger')"
      ],
      "execution_count": 14,
      "outputs": [
        {
          "output_type": "stream",
          "text": [
            "[nltk_data] Downloading package punkt to /root/nltk_data...\n",
            "[nltk_data]   Package punkt is already up-to-date!\n",
            "[nltk_data] Downloading package stopwords to /root/nltk_data...\n",
            "[nltk_data]   Package stopwords is already up-to-date!\n",
            "[nltk_data] Downloading package wordnet to /root/nltk_data...\n",
            "[nltk_data]   Package wordnet is already up-to-date!\n",
            "[nltk_data] Downloading package averaged_perceptron_tagger to\n",
            "[nltk_data]     /root/nltk_data...\n",
            "[nltk_data]   Package averaged_perceptron_tagger is already up-to-\n",
            "[nltk_data]       date!\n"
          ],
          "name": "stdout"
        },
        {
          "output_type": "execute_result",
          "data": {
            "text/plain": [
              "True"
            ]
          },
          "metadata": {
            "tags": []
          },
          "execution_count": 14
        }
      ]
    },
    {
      "cell_type": "code",
      "metadata": {
        "id": "aqwSeb5VQ8sB",
        "colab_type": "code",
        "colab": {}
      },
      "source": [
        "stop_words_ = set(stopwords.words('english'))\n",
        "wn = WordNetLemmatizer()\n",
        "\n",
        "my_sw = ['make', 'amp',  'news','new' ,'time', 'u','s', 'photos',  'get', 'say']\n",
        "def black_txt(token):\n",
        "    return  token not in stop_words_ and token not in list(string.punctuation)  and len(token)>2 and token not in my_sw\n",
        "  \n",
        "  \n",
        "def clean_txt(text):\n",
        "  clean_text = []\n",
        "  clean_text2 = []\n",
        "  text = re.sub(\"'\", \"\",text)\n",
        "  text=re.sub(\"(\\\\d|\\\\W)+\",\" \",text)    \n",
        "  clean_text = [ wn.lemmatize(word, pos=\"v\") for word in word_tokenize(text.lower()) if black_txt(word)]\n",
        "  clean_text2 = [word for word in clean_text if black_txt(word)]\n",
        "  return \" \".join(clean_text2)"
      ],
      "execution_count": 0,
      "outputs": []
    },
    {
      "cell_type": "code",
      "metadata": {
        "id": "_4fz4e2ITT2m",
        "colab_type": "code",
        "colab": {
          "base_uri": "https://localhost:8080/",
          "height": 260
        },
        "outputId": "bccfc4fe-27b9-464e-9182-9b4d9430a1a1"
      },
      "source": [
        "def Format_data(df): \n",
        "    # iterate over all the rows \n",
        "    for i in range(df.shape[0]): \n",
        "  \n",
        "        # reassign the values to the product column \n",
        "        # we first strip the whitespaces using strip() function \n",
        "        # then we capitalize the first letter using capitalize() function \n",
        "        df.iat[i, 1]= clean_txt(df.iat[i, 1])\n",
        "  \n",
        "# Let's call the function \n",
        "Format_data(df) \n",
        "  \n",
        "# Print the Dataframe \n",
        "print(df) "
      ],
      "execution_count": 16,
      "outputs": [
        {
          "output_type": "stream",
          "text": [
            "             category  ... category_id\n",
            "0               CRIME  ...           0\n",
            "1       ENTERTAINMENT  ...           1\n",
            "2       ENTERTAINMENT  ...           1\n",
            "3       ENTERTAINMENT  ...           1\n",
            "4       ENTERTAINMENT  ...           1\n",
            "...               ...  ...         ...\n",
            "200848           TECH  ...          14\n",
            "200849         SPORTS  ...          10\n",
            "200850         SPORTS  ...          10\n",
            "200851         SPORTS  ...          10\n",
            "200852         SPORTS  ...          10\n",
            "\n",
            "[200853 rows x 4 columns]\n"
          ],
          "name": "stdout"
        }
      ]
    },
    {
      "cell_type": "code",
      "metadata": {
        "id": "Je22AUOyUqbd",
        "colab_type": "code",
        "colab": {
          "base_uri": "https://localhost:8080/",
          "height": 225
        },
        "outputId": "b03f38da-8c31-447e-ef3f-d0fa556f3206"
      },
      "source": [
        "df[\"headline\"]"
      ],
      "execution_count": 17,
      "outputs": [
        {
          "output_type": "execute_result",
          "data": {
            "text/plain": [
              "0                                mass shoot texas last week\n",
              "1         smith join diplo nicky jam world cup official ...\n",
              "2                                hugh grant marry first age\n",
              "3         jim carrey blast castrato adam schiff democrat...\n",
              "4         julianna margulies use donald trump poop bag p...\n",
              "                                ...                        \n",
              "200848    rim ceo thorsten heins significant plan blackb...\n",
              "200849    maria sharapova stun victoria azarenka austral...\n",
              "200850    giants patriots jet colts among improbable sup...\n",
              "200851           aldon smith arrest ers linebacker bust dui\n",
              "200852       dwight howard rip teammates magic loss hornets\n",
              "Name: headline, Length: 200853, dtype: object"
            ]
          },
          "metadata": {
            "tags": []
          },
          "execution_count": 17
        }
      ]
    },
    {
      "cell_type": "code",
      "metadata": {
        "id": "PIvCDcIyV8Ss",
        "colab_type": "code",
        "colab": {}
      },
      "source": [
        "df['text'] = df['headline'] + \" \" + df['short_description']"
      ],
      "execution_count": 0,
      "outputs": []
    },
    {
      "cell_type": "code",
      "metadata": {
        "id": "6o5i0K14WNot",
        "colab_type": "code",
        "colab": {
          "base_uri": "https://localhost:8080/",
          "height": 260
        },
        "outputId": "bac5a2d0-d3d3-4a92-aa71-674f7a1fe745"
      },
      "source": [
        "def Format_data(df): \n",
        "    # iterate over all the rows \n",
        "    for i in range(df.shape[0]): \n",
        "  \n",
        "        # reassign the values to the product column \n",
        "        # we first strip the whitespaces using strip() function \n",
        "        # then we capitalize the first letter using capitalize() function \n",
        "        df.iat[i, 1]= clean_txt(df.iat[i, 1])\n",
        "  \n",
        "# Let's call the function \n",
        "Format_data(df) \n",
        "  \n",
        "# Print the Dataframe \n",
        "print(df) "
      ],
      "execution_count": 26,
      "outputs": [
        {
          "output_type": "stream",
          "text": [
            "             category  ...                                               text\n",
            "0               CRIME  ...  mass shoot texas last week She left her husban...\n",
            "1       ENTERTAINMENT  ...  smith join diplo nicky jam world cup official ...\n",
            "2       ENTERTAINMENT  ...  hugh grant marry first age The actor and his l...\n",
            "3       ENTERTAINMENT  ...  jim carrey blast castrato adam schiff democrat...\n",
            "4       ENTERTAINMENT  ...  julianna margulies use donald trump poop bag p...\n",
            "...               ...  ...                                                ...\n",
            "200848           TECH  ...  rim ceo thorsten heins significant plan blackb...\n",
            "200849         SPORTS  ...  maria sharapova stun victoria azarenka austral...\n",
            "200850         SPORTS  ...  giants patriots jet colts among improbable sup...\n",
            "200851         SPORTS  ...  aldon smith arrest ers linebacker bust dui COR...\n",
            "200852         SPORTS  ...  dwight howard rip teammates magic loss hornets...\n",
            "\n",
            "[200853 rows x 5 columns]\n"
          ],
          "name": "stdout"
        }
      ]
    },
    {
      "cell_type": "code",
      "metadata": {
        "colab_type": "code",
        "outputId": "6b5361e8-d7a7-406b-d738-a022debce018",
        "id": "y9we0ihYV8lD",
        "colab": {
          "base_uri": "https://localhost:8080/",
          "height": 1000
        }
      },
      "source": [
        "\n",
        "def create_tf_matrix(category):\n",
        "    return vectorizer.transform(df[df.category == category].text)\n",
        "\n",
        "def create_term_freq(matrix, cat):\n",
        "  category_words = matrix.sum(axis=0)\n",
        "  category_words_freq = [(word, category_words[0, idx]) for word, idx in vectorizer.vocabulary_.items()]\n",
        "  return pd.DataFrame(list(sorted(category_words_freq, key = lambda x: x[1], reverse=True)),columns=['Terms', cat])\n",
        "\n",
        "for cat in df.category.unique():\n",
        "  print(\"Top 10 terms for: \", cat)\n",
        "  df_right = create_term_freq(create_tf_matrix(cat), cat).head(10)\n",
        "  print(df_right)\n",
        "  print(\"###############\")\n",
        "  if cat != 'CRIME':\n",
        "    df_top5_words = df_top5_words.merge(df_right, how='outer')\n",
        "  else:\n",
        "    df_top5_words = df_right.copy()\n",
        "  print(df_top5_words.shape )\n",
        "\n",
        "  "
      ],
      "execution_count": 29,
      "outputs": [
        {
          "output_type": "stream",
          "text": [
            "Top 10 terms for:  CRIME\n",
            "     Terms       CRIME\n",
            "0     home  122.780746\n",
            "1    crime   61.279350\n",
            "2    black   54.603386\n",
            "3    drink   50.149849\n",
            "4     live   47.139003\n",
            "5   parent   42.693406\n",
            "6    women   42.479414\n",
            "7  college   26.158697\n",
            "8     good   24.768079\n",
            "9    money   22.500460\n",
            "###############\n",
            "(10, 2)\n",
            "Top 10 terms for:  ENTERTAINMENT\n",
            "    Terms  ENTERTAINMENT\n",
            "0    live     356.901616\n",
            "1    good     336.142522\n",
            "2   world     331.985059\n",
            "3   women     239.054035\n",
            "4   black     204.679678\n",
            "5    home     153.132509\n",
            "6  comedy     145.462310\n",
            "7   media     114.164769\n",
            "8   voice     109.243520\n",
            "9  parent      79.957844\n",
            "###############\n",
            "(14, 3)\n",
            "Top 10 terms for:  WORLD NEWS\n",
            "      Terms  WORLD NEWS\n",
            "0     world  107.477013\n",
            "1     women   57.656851\n",
            "2     media   30.497552\n",
            "3      live   27.490777\n",
            "4      home   26.794834\n",
            "5      good   15.763163\n",
            "6     black   13.506478\n",
            "7    travel   12.679764\n",
            "8      food   12.658104\n",
            "9  politics   10.013183\n",
            "###############\n",
            "(17, 4)\n",
            "Top 10 terms for:  IMPACT\n",
            "       Terms      IMPACT\n",
            "0      world  335.615110\n",
            "1      women  219.864322\n",
            "2       live  218.918858\n",
            "3       good  108.361593\n",
            "4       food  105.316383\n",
            "5  education   98.093954\n",
            "6       home   90.961893\n",
            "7     impact   74.500094\n",
            "8      money   61.243602\n",
            "9     parent   48.704086\n",
            "###############\n",
            "(19, 5)\n",
            "Top 10 terms for:  POLITICS\n",
            "      Terms    POLITICS\n",
            "0      good  549.780123\n",
            "1     women  526.279567\n",
            "2     world  522.900592\n",
            "3      live  495.965770\n",
            "4     money  440.261775\n",
            "5     media  384.111208\n",
            "6     black  346.513256\n",
            "7  politics  338.804538\n",
            "8      home  257.453927\n",
            "9    travel  225.424263\n",
            "###############\n",
            "(19, 6)\n",
            "Top 10 terms for:  WEIRD NEWS\n",
            "   Terms  WEIRD NEWS\n",
            "0  weird   57.198358\n",
            "1  world   56.325323\n",
            "2   good   52.815470\n",
            "3   home   44.471867\n",
            "4   live   43.578597\n",
            "5  drink   41.767391\n",
            "6   food   25.330107\n",
            "7  sport   15.251457\n",
            "8  taste   14.461086\n",
            "9  women   12.952734\n",
            "###############\n",
            "(22, 7)\n",
            "Top 10 terms for:  BLACK VOICES\n",
            "     Terms  BLACK VOICES\n",
            "0    black   1118.094034\n",
            "1     live    180.726633\n",
            "2    women    140.384312\n",
            "3    world     74.524100\n",
            "4    style     69.524882\n",
            "5     home     57.619787\n",
            "6    voice     51.567081\n",
            "7    media     47.362353\n",
            "8  college     46.473412\n",
            "9  culture     41.034887\n",
            "###############\n",
            "(24, 8)\n",
            "Top 10 terms for:  WOMEN\n",
            "     Terms       WOMEN\n",
            "0    women  997.989694\n",
            "1    world  112.158132\n",
            "2     live   99.899275\n",
            "3     good   76.975060\n",
            "4  culture   44.813376\n",
            "5    media   35.156230\n",
            "6    black   30.227129\n",
            "7     home   27.952820\n",
            "8    voice   27.127239\n",
            "9  college   24.110524\n",
            "###############\n",
            "(24, 9)\n",
            "Top 10 terms for:  COMEDY\n",
            "    Terms      COMEDY\n",
            "0    live  186.979595\n",
            "1   world  103.465579\n",
            "2  comedy   97.451753\n",
            "3    good   93.683279\n",
            "4   women   54.545127\n",
            "5   drink   51.335562\n",
            "6    home   50.589363\n",
            "7   black   50.321627\n",
            "8   media   36.606436\n",
            "9    food   33.041692\n",
            "###############\n",
            "(24, 10)\n",
            "Top 10 terms for:  QUEER VOICES\n",
            "     Terms  QUEER VOICES\n",
            "0    queer    507.368019\n",
            "1     live    230.661365\n",
            "2    world    210.803151\n",
            "3    women    133.680133\n",
            "4   parent    104.638088\n",
            "5     good     89.501813\n",
            "6    black     86.053343\n",
            "7  culture     78.234736\n",
            "8    media     71.953139\n",
            "9     home     70.852188\n",
            "###############\n",
            "(25, 11)\n",
            "Top 10 terms for:  SPORTS\n",
            "     Terms      SPORTS\n",
            "0    sport  261.695984\n",
            "1    world  254.587908\n",
            "2     live  145.112861\n",
            "3  college  100.071823\n",
            "4     good   92.590537\n",
            "5    women   63.387473\n",
            "6     home   59.329693\n",
            "7    green   41.851531\n",
            "8    money   32.116693\n",
            "9    black   28.151404\n",
            "###############\n",
            "(26, 12)\n",
            "Top 10 terms for:  BUSINESS\n",
            "      Terms    BUSINESS\n",
            "0  business  511.510049\n",
            "1     women  268.383934\n",
            "2     world  216.918011\n",
            "3     money  145.204618\n",
            "4      good  137.254177\n",
            "5      live  102.430219\n",
            "6      home  100.833187\n",
            "7     media   84.108686\n",
            "8      food   79.895663\n",
            "9     black   71.490128\n",
            "###############\n",
            "(27, 13)\n",
            "Top 10 terms for:  TRAVEL\n",
            "      Terms       TRAVEL\n",
            "0    travel  1478.095803\n",
            "1     world   818.069789\n",
            "2      home   295.520484\n",
            "3      live   226.784728\n",
            "4      good   220.705020\n",
            "5      food   205.402040\n",
            "6   culture   133.754303\n",
            "7     drink   104.436509\n",
            "8     style    83.880527\n",
            "9  business    79.703414\n",
            "###############\n",
            "(27, 14)\n",
            "Top 10 terms for:  MEDIA\n",
            "      Terms       MEDIA\n",
            "0     media  306.969359\n",
            "1     world   64.188409\n",
            "2      live   60.868360\n",
            "3     women   52.305089\n",
            "4  business   33.109712\n",
            "5      good   29.531488\n",
            "6     black   21.219032\n",
            "7  politics   18.219757\n",
            "8   culture   17.893360\n",
            "9      home   16.261056\n",
            "###############\n",
            "(27, 15)\n",
            "Top 10 terms for:  TECH\n",
            "      Terms        TECH\n",
            "0      tech  110.704609\n",
            "1     world   77.334051\n",
            "2     media   59.622249\n",
            "3      live   42.120952\n",
            "4      good   36.816731\n",
            "5  business   32.899162\n",
            "6     black   29.478155\n",
            "7     women   28.384441\n",
            "8      home   27.868720\n",
            "9     money   23.877565\n",
            "###############\n",
            "(28, 16)\n",
            "Top 10 terms for:  RELIGION\n",
            "      Terms    RELIGION\n",
            "0     world  138.484292\n",
            "1  religion  109.659990\n",
            "2      live   70.954779\n",
            "3      good   62.125046\n",
            "4     women   56.229298\n",
            "5     black   31.723237\n",
            "6      home   24.228565\n",
            "7     voice   18.812460\n",
            "8   science   15.107684\n",
            "9   college   14.929567\n",
            "###############\n",
            "(30, 17)\n",
            "Top 10 terms for:  SCIENCE\n",
            "     Terms     SCIENCE\n",
            "0  science  156.866618\n",
            "1    world   80.531477\n",
            "2     live   58.707733\n",
            "3    black   36.186650\n",
            "4     good   32.697450\n",
            "5    women   28.892333\n",
            "6     home   19.219829\n",
            "7     food   18.939356\n",
            "8   travel   16.295536\n",
            "9   beauty   10.590880\n",
            "###############\n",
            "(31, 18)\n",
            "Top 10 terms for:  LATINO VOICES\n",
            "     Terms  LATINO VOICES\n",
            "0   latino     150.480761\n",
            "1     live      38.716331\n",
            "2    women      26.752656\n",
            "3    world      25.539588\n",
            "4    black      19.091176\n",
            "5     good      14.475711\n",
            "6     home      14.130862\n",
            "7  culture      14.065772\n",
            "8   parent      12.068709\n",
            "9    media      11.262557\n",
            "###############\n",
            "(32, 19)\n",
            "Top 10 terms for:  EDUCATION\n",
            "       Terms   EDUCATION\n",
            "0  education  256.823852\n",
            "1    college   69.517208\n",
            "2     parent   42.450170\n",
            "3      world   39.649946\n",
            "4       good   24.512355\n",
            "5       live   15.577701\n",
            "6      money   15.153713\n",
            "7    science   14.440966\n",
            "8       arts   10.696364\n",
            "9      media   10.459323\n",
            "###############\n",
            "(33, 20)\n",
            "Top 10 terms for:  COLLEGE\n",
            "       Terms     COLLEGE\n",
            "0    college  300.970992\n",
            "1  education   71.909466\n",
            "2       live   29.274479\n",
            "3      world   28.433706\n",
            "4       good   23.809684\n",
            "5      media   21.087161\n",
            "6      women   19.137830\n",
            "7      black   14.505568\n",
            "8      money   14.459631\n",
            "9     parent   13.276724\n",
            "###############\n",
            "(33, 21)\n",
            "Top 10 terms for:  PARENTS\n",
            "     Terms     PARENTS\n",
            "0   parent  707.359366\n",
            "1    world  119.468643\n",
            "2     good  119.457794\n",
            "3     live   93.070973\n",
            "4    women   87.259132\n",
            "5     home   84.427519\n",
            "6  college   32.810194\n",
            "7     food   29.498621\n",
            "8    black   26.205871\n",
            "9    media   25.169830\n",
            "###############\n",
            "(33, 22)\n",
            "Top 10 terms for:  ARTS & CULTURE\n",
            "     Terms  ARTS & CULTURE\n",
            "0    women       83.944272\n",
            "1    world       58.242285\n",
            "2     live       36.184519\n",
            "3    black       24.576167\n",
            "4  culture       19.669249\n",
            "5     good       17.889634\n",
            "6     arts       16.677165\n",
            "7     home       15.342903\n",
            "8   beauty       12.640659\n",
            "9   travel       11.581452\n",
            "###############\n",
            "(33, 23)\n",
            "Top 10 terms for:  STYLE\n",
            "      Terms       STYLE\n",
            "0     style  127.119694\n",
            "1    beauty  121.457273\n",
            "2      good   52.585859\n",
            "3     black   37.889150\n",
            "4     women   34.235477\n",
            "5     world   32.991887\n",
            "6      live   27.325955\n",
            "7     money   16.209290\n",
            "8      home   15.229864\n",
            "9  business   12.270092\n",
            "###############\n",
            "(33, 24)\n",
            "Top 10 terms for:  GREEN\n",
            "         Terms       GREEN\n",
            "0        world  126.067410\n",
            "1         live   81.563213\n",
            "2         home   72.695678\n",
            "3         good   60.881829\n",
            "4        green   54.451319\n",
            "5         food   51.317036\n",
            "6  environment   48.846933\n",
            "7      science   31.090562\n",
            "8       impact   29.409353\n",
            "9     business   23.028661\n",
            "###############\n",
            "(34, 25)\n",
            "Top 10 terms for:  TASTE\n",
            "     Terms       TASTE\n",
            "0     food  195.404255\n",
            "1     good   85.566730\n",
            "2    drink   71.623207\n",
            "3    taste   65.303564\n",
            "4    world   50.008766\n",
            "5  healthy   43.245209\n",
            "6     home   38.952217\n",
            "7    style   19.847067\n",
            "8    green   15.510594\n",
            "9    money   15.262439\n",
            "###############\n",
            "(35, 26)\n",
            "Top 10 terms for:  HEALTHY LIVING\n",
            "     Terms  HEALTHY LIVING\n",
            "0     live      345.903117\n",
            "1     good      265.766372\n",
            "2  healthy      174.907593\n",
            "3    world      151.624279\n",
            "4     food      148.194434\n",
            "5    women      145.051870\n",
            "6     home       78.838935\n",
            "7  science       76.013331\n",
            "8    drink       66.240312\n",
            "9   parent       65.866743\n",
            "###############\n",
            "(35, 27)\n",
            "Top 10 terms for:  WORLDPOST\n",
            "      Terms   WORLDPOST\n",
            "0     world  386.262243\n",
            "1      live  129.162228\n",
            "2     women  128.684004\n",
            "3     media   90.227952\n",
            "4      home   90.140254\n",
            "5      good   41.103524\n",
            "6  politics   30.980908\n",
            "7     voice   28.810459\n",
            "8    travel   26.504742\n",
            "9  business   25.739803\n",
            "###############\n",
            "(35, 28)\n",
            "Top 10 terms for:  GOOD NEWS\n",
            "     Terms  GOOD NEWS\n",
            "0     home  66.795463\n",
            "1    world  52.287612\n",
            "2     live  47.401297\n",
            "3     good  36.989055\n",
            "4     food  21.952309\n",
            "5    money  18.645634\n",
            "6  college  13.307826\n",
            "7   parent   8.693309\n",
            "8    style   6.000000\n",
            "9    media   5.820593\n",
            "###############\n",
            "(35, 29)\n",
            "Top 10 terms for:  FIFTY\n",
            "     Terms       FIFTY\n",
            "0     live  106.491242\n",
            "1    women   63.274707\n",
            "2     good   62.535528\n",
            "3    world   55.357256\n",
            "4     home   52.630024\n",
            "5   parent   39.731793\n",
            "6  college   20.532550\n",
            "7  healthy   18.100826\n",
            "8   beauty   12.996088\n",
            "9   travel   12.023648\n",
            "###############\n",
            "(35, 30)\n",
            "Top 10 terms for:  ARTS\n",
            "     Terms       ARTS\n",
            "0    world  97.980348\n",
            "1     live  58.421848\n",
            "2     good  30.569801\n",
            "3     arts  30.068446\n",
            "4    women  25.328947\n",
            "5  culture  18.697025\n",
            "6     home  17.715329\n",
            "7   beauty  14.132909\n",
            "8    media  12.387046\n",
            "9    black  11.470254\n",
            "###############\n",
            "(35, 31)\n",
            "Top 10 terms for:  WELLNESS\n",
            "     Terms     WELLNESS\n",
            "0     live  1231.895126\n",
            "1     good   844.720467\n",
            "2  healthy   744.144254\n",
            "3    world   596.013537\n",
            "4     food   570.384152\n",
            "5    women   378.797160\n",
            "6     home   264.296047\n",
            "7    drink   237.881488\n",
            "8  science   150.822923\n",
            "9    money   130.933391\n",
            "###############\n",
            "(35, 32)\n",
            "Top 10 terms for:  PARENTING\n",
            "     Terms    PARENTING\n",
            "0   parent  1657.280034\n",
            "1    world   318.832694\n",
            "2     live   315.552933\n",
            "3     home   294.421745\n",
            "4     good   290.660546\n",
            "5    women   191.797676\n",
            "6  healthy   110.514298\n",
            "7     food   105.605591\n",
            "8  college    94.680319\n",
            "9    media    93.111164\n",
            "###############\n",
            "(35, 33)\n",
            "Top 10 terms for:  HOME & LIVING\n",
            "   Terms  HOME & LIVING\n",
            "0   home    1340.175065\n",
            "1   live     234.053423\n",
            "2  style     110.406988\n",
            "3   good      89.167657\n",
            "4  money      47.671309\n",
            "5  world      39.943329\n",
            "6  green      33.112137\n",
            "7  weird      28.405702\n",
            "8  black      26.395654\n",
            "9   food      22.092890\n",
            "###############\n",
            "(35, 34)\n",
            "Top 10 terms for:  STYLE & BEAUTY\n",
            "    Terms  STYLE & BEAUTY\n",
            "0   style     1794.868477\n",
            "1  beauty      616.221041\n",
            "2   women      244.382390\n",
            "3   black      224.962782\n",
            "4    good      224.492010\n",
            "5   world      191.848867\n",
            "6    live      127.861956\n",
            "7   sport       99.440958\n",
            "8    home       88.385667\n",
            "9   green       65.770821\n",
            "###############\n",
            "(35, 35)\n",
            "Top 10 terms for:  DIVORCE\n",
            "      Terms      DIVORCE\n",
            "0   divorce  1763.607451\n",
            "1    parent   211.686968\n",
            "2     women   104.593126\n",
            "3      good   102.419526\n",
            "4      live    99.235986\n",
            "5      home    53.650073\n",
            "6     world    47.031503\n",
            "7     money    32.371137\n",
            "8     media    25.731036\n",
            "9  business    18.337385\n",
            "###############\n",
            "(36, 36)\n",
            "Top 10 terms for:  WEDDINGS\n",
            "      Terms    WEDDINGS\n",
            "0  weddings  557.264676\n",
            "1      live   96.019948\n",
            "2      good   92.720102\n",
            "3     style   86.688382\n",
            "4     women   80.060442\n",
            "5     world   61.262466\n",
            "6     money   50.592463\n",
            "7      home   48.727319\n",
            "8   divorce   31.890743\n",
            "9    parent   28.700505\n",
            "###############\n",
            "(37, 37)\n",
            "Top 10 terms for:  FOOD & DRINK\n",
            "     Terms  FOOD & DRINK\n",
            "0     food    705.791426\n",
            "1    taste    314.885766\n",
            "2    drink    259.317222\n",
            "3     good    254.239181\n",
            "4    world    137.131272\n",
            "5     home    127.470932\n",
            "6  healthy    109.021498\n",
            "7    green     95.155885\n",
            "8     live     57.666905\n",
            "9    style     44.830466\n",
            "###############\n",
            "(37, 38)\n",
            "Top 10 terms for:  MONEY\n",
            "      Terms       MONEY\n",
            "0     money  239.336428\n",
            "1      home   68.472131\n",
            "2      good   64.824145\n",
            "3      live   42.822717\n",
            "4   college   42.453385\n",
            "5     world   30.033692\n",
            "6     black   29.413934\n",
            "7    parent   28.747800\n",
            "8  business   22.954881\n",
            "9      food   18.404718\n",
            "###############\n",
            "(37, 39)\n",
            "Top 10 terms for:  ENVIRONMENT\n",
            "         Terms  ENVIRONMENT\n",
            "0        world    87.867622\n",
            "1         home    48.743788\n",
            "2         live    46.228985\n",
            "3        green    42.960657\n",
            "4         good    25.616400\n",
            "5         food    21.512942\n",
            "6       impact    19.590190\n",
            "7  environment    19.042585\n",
            "8      science    14.958090\n",
            "9        black    11.213458\n",
            "###############\n",
            "(37, 40)\n",
            "Top 10 terms for:  CULTURE & ARTS\n",
            "     Terms  CULTURE & ARTS\n",
            "0    world       72.493833\n",
            "1     arts       56.101673\n",
            "2  culture       33.698830\n",
            "3     live       29.292515\n",
            "4     good       18.849146\n",
            "5   beauty       17.874212\n",
            "6    black       16.749647\n",
            "7    women       14.989691\n",
            "8    style       13.000000\n",
            "9     home       11.566369\n",
            "###############\n",
            "(37, 41)\n"
          ],
          "name": "stdout"
        }
      ]
    },
    {
      "cell_type": "code",
      "metadata": {
        "id": "9CgV33PnW5xo",
        "colab_type": "code",
        "colab": {
          "base_uri": "https://localhost:8080/",
          "height": 35
        },
        "outputId": "78b273a1-4b5b-48b1-a810-73ea3493c064"
      },
      "source": [
        "df_top5_words.fillna(0, inplace=True )\n",
        "df_top5_words.set_index('Terms', inplace=True)\n",
        "df_top5_words.shape"
      ],
      "execution_count": 30,
      "outputs": [
        {
          "output_type": "execute_result",
          "data": {
            "text/plain": [
              "(37, 40)"
            ]
          },
          "metadata": {
            "tags": []
          },
          "execution_count": 30
        }
      ]
    },
    {
      "cell_type": "code",
      "metadata": {
        "id": "L3wmQkI_W7OJ",
        "colab_type": "code",
        "colab": {
          "base_uri": "https://localhost:8080/",
          "height": 904
        },
        "outputId": "ce9fd86f-6d6f-43cd-fa68-72181850562d"
      },
      "source": [
        "!pip install textacy"
      ],
      "execution_count": 32,
      "outputs": [
        {
          "output_type": "stream",
          "text": [
            "Collecting textacy\n",
            "\u001b[?25l  Downloading https://files.pythonhosted.org/packages/f3/fe/0b57ac1a202de9819e71e8373980d586e824f515ad2f4266e4e98627f8b8/textacy-0.10.0-py3-none-any.whl (206kB)\n",
            "\u001b[K     |████████████████████████████████| 215kB 1.4MB/s \n",
            "\u001b[?25hRequirement already satisfied: cachetools>=2.0.1 in /usr/local/lib/python3.6/dist-packages (from textacy) (3.1.1)\n",
            "Collecting cytoolz>=0.8.0\n",
            "\u001b[?25l  Downloading https://files.pythonhosted.org/packages/62/b1/7f16703fe4a497879b1b457adf1e472fad2d4f030477698b16d2febf38bb/cytoolz-0.10.1.tar.gz (475kB)\n",
            "\u001b[K     |████████████████████████████████| 481kB 4.2MB/s \n",
            "\u001b[?25hRequirement already satisfied: networkx>=2.0 in /usr/local/lib/python3.6/dist-packages (from textacy) (2.4)\n",
            "Collecting pyphen>=0.9.4\n",
            "\u001b[?25l  Downloading https://files.pythonhosted.org/packages/15/82/08a3629dce8d1f3d91db843bb36d4d7db6b6269d5067259613a0d5c8a9db/Pyphen-0.9.5-py2.py3-none-any.whl (3.0MB)\n",
            "\u001b[K     |████████████████████████████████| 3.0MB 6.8MB/s \n",
            "\u001b[?25hRequirement already satisfied: scipy>=0.17.0 in /usr/local/lib/python3.6/dist-packages (from textacy) (1.4.1)\n",
            "Collecting jellyfish>=0.7.0\n",
            "\u001b[?25l  Downloading https://files.pythonhosted.org/packages/3f/80/bcacc7affb47be7279d7d35225e1a932416ed051b315a7f9df20acf04cbe/jellyfish-0.7.2.tar.gz (133kB)\n",
            "\u001b[K     |████████████████████████████████| 143kB 11.5MB/s \n",
            "\u001b[?25hRequirement already satisfied: numpy>=1.17.0 in /usr/local/lib/python3.6/dist-packages (from textacy) (1.18.2)\n",
            "Requirement already satisfied: srsly>=0.0.5 in /usr/local/lib/python3.6/dist-packages (from textacy) (1.0.2)\n",
            "Requirement already satisfied: tqdm>=4.19.6 in /usr/local/lib/python3.6/dist-packages (from textacy) (4.38.0)\n",
            "Requirement already satisfied: spacy>=2.2.0 in /usr/local/lib/python3.6/dist-packages (from textacy) (2.2.4)\n",
            "Requirement already satisfied: pyemd>=0.5.0 in /usr/local/lib/python3.6/dist-packages (from textacy) (0.5.1)\n",
            "Requirement already satisfied: scikit-learn>=0.19.0 in /usr/local/lib/python3.6/dist-packages (from textacy) (0.22.2.post1)\n",
            "Requirement already satisfied: requests>=2.10.0 in /usr/local/lib/python3.6/dist-packages (from textacy) (2.21.0)\n",
            "Requirement already satisfied: joblib>=0.13.0 in /usr/local/lib/python3.6/dist-packages (from textacy) (0.14.1)\n",
            "Requirement already satisfied: toolz>=0.8.0 in /usr/local/lib/python3.6/dist-packages (from cytoolz>=0.8.0->textacy) (0.10.0)\n",
            "Requirement already satisfied: decorator>=4.3.0 in /usr/local/lib/python3.6/dist-packages (from networkx>=2.0->textacy) (4.4.2)\n",
            "Requirement already satisfied: murmurhash<1.1.0,>=0.28.0 in /usr/local/lib/python3.6/dist-packages (from spacy>=2.2.0->textacy) (1.0.2)\n",
            "Requirement already satisfied: plac<1.2.0,>=0.9.6 in /usr/local/lib/python3.6/dist-packages (from spacy>=2.2.0->textacy) (1.1.3)\n",
            "Requirement already satisfied: cymem<2.1.0,>=2.0.2 in /usr/local/lib/python3.6/dist-packages (from spacy>=2.2.0->textacy) (2.0.3)\n",
            "Requirement already satisfied: thinc==7.4.0 in /usr/local/lib/python3.6/dist-packages (from spacy>=2.2.0->textacy) (7.4.0)\n",
            "Requirement already satisfied: preshed<3.1.0,>=3.0.2 in /usr/local/lib/python3.6/dist-packages (from spacy>=2.2.0->textacy) (3.0.2)\n",
            "Requirement already satisfied: setuptools in /usr/local/lib/python3.6/dist-packages (from spacy>=2.2.0->textacy) (46.0.0)\n",
            "Requirement already satisfied: catalogue<1.1.0,>=0.0.7 in /usr/local/lib/python3.6/dist-packages (from spacy>=2.2.0->textacy) (1.0.0)\n",
            "Requirement already satisfied: blis<0.5.0,>=0.4.0 in /usr/local/lib/python3.6/dist-packages (from spacy>=2.2.0->textacy) (0.4.1)\n",
            "Requirement already satisfied: wasabi<1.1.0,>=0.4.0 in /usr/local/lib/python3.6/dist-packages (from spacy>=2.2.0->textacy) (0.6.0)\n",
            "Requirement already satisfied: urllib3<1.25,>=1.21.1 in /usr/local/lib/python3.6/dist-packages (from requests>=2.10.0->textacy) (1.24.3)\n",
            "Requirement already satisfied: idna<2.9,>=2.5 in /usr/local/lib/python3.6/dist-packages (from requests>=2.10.0->textacy) (2.8)\n",
            "Requirement already satisfied: certifi>=2017.4.17 in /usr/local/lib/python3.6/dist-packages (from requests>=2.10.0->textacy) (2019.11.28)\n",
            "Requirement already satisfied: chardet<3.1.0,>=3.0.2 in /usr/local/lib/python3.6/dist-packages (from requests>=2.10.0->textacy) (3.0.4)\n",
            "Requirement already satisfied: importlib-metadata>=0.20; python_version < \"3.8\" in /usr/local/lib/python3.6/dist-packages (from catalogue<1.1.0,>=0.0.7->spacy>=2.2.0->textacy) (1.6.0)\n",
            "Requirement already satisfied: zipp>=0.5 in /usr/local/lib/python3.6/dist-packages (from importlib-metadata>=0.20; python_version < \"3.8\"->catalogue<1.1.0,>=0.0.7->spacy>=2.2.0->textacy) (3.1.0)\n",
            "Building wheels for collected packages: cytoolz, jellyfish\n",
            "  Building wheel for cytoolz (setup.py) ... \u001b[?25l\u001b[?25hdone\n",
            "  Created wheel for cytoolz: filename=cytoolz-0.10.1-cp36-cp36m-linux_x86_64.whl size=1257034 sha256=be9a2dacb0067e0b9ed40d1b3bf1bc45cbf3c3d44bb6bc9b4e13024d85ab1c98\n",
            "  Stored in directory: /root/.cache/pip/wheels/64/2a/18/d962b614e055577e7d9a3e4813e0742f822ca9c8800cc3783a\n",
            "  Building wheel for jellyfish (setup.py) ... \u001b[?25l\u001b[?25hdone\n",
            "  Created wheel for jellyfish: filename=jellyfish-0.7.2-cp36-cp36m-linux_x86_64.whl size=73005 sha256=ef8c1cc61934e03fa0540234c761ad8e8b29df6dcdb2b63d9bdf1e9ae53e0728\n",
            "  Stored in directory: /root/.cache/pip/wheels/e8/fe/99/d8fa8f2ef7b82a625b0b77a84d319b0b50693659823c4effb4\n",
            "Successfully built cytoolz jellyfish\n",
            "Installing collected packages: cytoolz, pyphen, jellyfish, textacy\n",
            "Successfully installed cytoolz-0.10.1 jellyfish-0.7.2 pyphen-0.9.5 textacy-0.10.0\n"
          ],
          "name": "stdout"
        }
      ]
    },
    {
      "cell_type": "code",
      "metadata": {
        "id": "lHqgLofFXFwb",
        "colab_type": "code",
        "colab": {}
      },
      "source": [
        "from textacy.viz.termite import draw_termite_plot"
      ],
      "execution_count": 0,
      "outputs": []
    },
    {
      "cell_type": "code",
      "metadata": {
        "id": "wdm1E76qXGWV",
        "colab_type": "code",
        "colab": {}
      },
      "source": [
        "df = df_top5_words.copy()\n",
        "df_norm = (df) / (df.max() - df.min())"
      ],
      "execution_count": 0,
      "outputs": []
    },
    {
      "cell_type": "code",
      "metadata": {
        "id": "RZ5bo0gKXJn2",
        "colab_type": "code",
        "colab": {
          "base_uri": "https://localhost:8080/",
          "height": 496
        },
        "outputId": "32505bd8-2806-4edd-c94f-089cd4c29f8d"
      },
      "source": [
        "draw_termite_plot(np.array(df_norm.values),df_top5_words.columns,df_top5_words.index, highlight_cols=[0, 4, 12,20,30,36] )"
      ],
      "execution_count": 35,
      "outputs": [
        {
          "output_type": "execute_result",
          "data": {
            "text/plain": [
              "<matplotlib.axes._subplots.AxesSubplot at 0x7f75d4c0b5f8>"
            ]
          },
          "metadata": {
            "tags": []
          },
          "execution_count": 35
        },
        {
          "output_type": "display_data",
          "data": {
            "image/png": "[encoded data removed]",
            "text/plain": [
              "<Figure size 1377.15x780.451 with 1 Axes>"
            ]
          },
          "metadata": {
            "tags": []
          }
        }
      ]
    },
    {
      "cell_type": "code",
      "metadata": {
        "id": "6louZFWpXm_Q",
        "colab_type": "code",
        "colab": {
          "base_uri": "https://localhost:8080/",
          "height": 401
        },
        "outputId": "eb3d3b41-d638-45a1-d92c-85fc1978c754"
      },
      "source": [
        "df['qty']= 1\n",
        "df_cat_year = df.groupby(['category', 'year']).agg({'polarity': 'mean', \n",
        "                                     'subjectivity': 'mean', \n",
        "                                    'len': 'mean',\n",
        "                                     'qty':'count'})\n",
        "df_cat_year.head(6)"
      ],
      "execution_count": 39,
      "outputs": [
        {
          "output_type": "error",
          "ename": "KeyError",
          "evalue": "ignored",
          "traceback": [
            "\u001b[0;31m---------------------------------------------------------------------------\u001b[0m",
            "\u001b[0;31mKeyError\u001b[0m                                  Traceback (most recent call last)",
            "\u001b[0;32m<ipython-input-39-3cce3bc3fa29>\u001b[0m in \u001b[0;36m<module>\u001b[0;34m()\u001b[0m\n\u001b[1;32m      1\u001b[0m \u001b[0mdf\u001b[0m\u001b[0;34m[\u001b[0m\u001b[0;34m'qty'\u001b[0m\u001b[0;34m]\u001b[0m\u001b[0;34m=\u001b[0m \u001b[0;36m1\u001b[0m\u001b[0;34m\u001b[0m\u001b[0;34m\u001b[0m\u001b[0m\n\u001b[0;32m----> 2\u001b[0;31m df_cat_year = df.groupby(['category', 'year']).agg({'polarity': 'mean', \n\u001b[0m\u001b[1;32m      3\u001b[0m                                      \u001b[0;34m'subjectivity'\u001b[0m\u001b[0;34m:\u001b[0m \u001b[0;34m'mean'\u001b[0m\u001b[0;34m,\u001b[0m\u001b[0;34m\u001b[0m\u001b[0;34m\u001b[0m\u001b[0m\n\u001b[1;32m      4\u001b[0m                                     \u001b[0;34m'len'\u001b[0m\u001b[0;34m:\u001b[0m \u001b[0;34m'mean'\u001b[0m\u001b[0;34m,\u001b[0m\u001b[0;34m\u001b[0m\u001b[0;34m\u001b[0m\u001b[0m\n\u001b[1;32m      5\u001b[0m                                      'qty':'count'})\n",
            "\u001b[0;32m/usr/local/lib/python3.6/dist-packages/pandas/core/frame.py\u001b[0m in \u001b[0;36mgroupby\u001b[0;34m(self, by, axis, level, as_index, sort, group_keys, squeeze, observed)\u001b[0m\n\u001b[1;32m   5808\u001b[0m             \u001b[0mgroup_keys\u001b[0m\u001b[0;34m=\u001b[0m\u001b[0mgroup_keys\u001b[0m\u001b[0;34m,\u001b[0m\u001b[0;34m\u001b[0m\u001b[0;34m\u001b[0m\u001b[0m\n\u001b[1;32m   5809\u001b[0m             \u001b[0msqueeze\u001b[0m\u001b[0;34m=\u001b[0m\u001b[0msqueeze\u001b[0m\u001b[0;34m,\u001b[0m\u001b[0;34m\u001b[0m\u001b[0;34m\u001b[0m\u001b[0m\n\u001b[0;32m-> 5810\u001b[0;31m             \u001b[0mobserved\u001b[0m\u001b[0;34m=\u001b[0m\u001b[0mobserved\u001b[0m\u001b[0;34m,\u001b[0m\u001b[0;34m\u001b[0m\u001b[0;34m\u001b[0m\u001b[0m\n\u001b[0m\u001b[1;32m   5811\u001b[0m         )\n\u001b[1;32m   5812\u001b[0m \u001b[0;34m\u001b[0m\u001b[0m\n",
            "\u001b[0;32m/usr/local/lib/python3.6/dist-packages/pandas/core/groupby/groupby.py\u001b[0m in \u001b[0;36m__init__\u001b[0;34m(self, obj, keys, axis, level, grouper, exclusions, selection, as_index, sort, group_keys, squeeze, observed, mutated)\u001b[0m\n\u001b[1;32m    407\u001b[0m                 \u001b[0msort\u001b[0m\u001b[0;34m=\u001b[0m\u001b[0msort\u001b[0m\u001b[0;34m,\u001b[0m\u001b[0;34m\u001b[0m\u001b[0;34m\u001b[0m\u001b[0m\n\u001b[1;32m    408\u001b[0m                 \u001b[0mobserved\u001b[0m\u001b[0;34m=\u001b[0m\u001b[0mobserved\u001b[0m\u001b[0;34m,\u001b[0m\u001b[0;34m\u001b[0m\u001b[0;34m\u001b[0m\u001b[0m\n\u001b[0;32m--> 409\u001b[0;31m                 \u001b[0mmutated\u001b[0m\u001b[0;34m=\u001b[0m\u001b[0mself\u001b[0m\u001b[0;34m.\u001b[0m\u001b[0mmutated\u001b[0m\u001b[0;34m,\u001b[0m\u001b[0;34m\u001b[0m\u001b[0;34m\u001b[0m\u001b[0m\n\u001b[0m\u001b[1;32m    410\u001b[0m             )\n\u001b[1;32m    411\u001b[0m \u001b[0;34m\u001b[0m\u001b[0m\n",
            "\u001b[0;32m/usr/local/lib/python3.6/dist-packages/pandas/core/groupby/grouper.py\u001b[0m in \u001b[0;36mget_grouper\u001b[0;34m(obj, key, axis, level, sort, observed, mutated, validate)\u001b[0m\n\u001b[1;32m    596\u001b[0m                 \u001b[0min_axis\u001b[0m\u001b[0;34m,\u001b[0m \u001b[0mname\u001b[0m\u001b[0;34m,\u001b[0m \u001b[0mlevel\u001b[0m\u001b[0;34m,\u001b[0m \u001b[0mgpr\u001b[0m \u001b[0;34m=\u001b[0m \u001b[0;32mFalse\u001b[0m\u001b[0;34m,\u001b[0m \u001b[0;32mNone\u001b[0m\u001b[0;34m,\u001b[0m \u001b[0mgpr\u001b[0m\u001b[0;34m,\u001b[0m \u001b[0;32mNone\u001b[0m\u001b[0;34m\u001b[0m\u001b[0;34m\u001b[0m\u001b[0m\n\u001b[1;32m    597\u001b[0m             \u001b[0;32melse\u001b[0m\u001b[0;34m:\u001b[0m\u001b[0;34m\u001b[0m\u001b[0;34m\u001b[0m\u001b[0m\n\u001b[0;32m--> 598\u001b[0;31m                 \u001b[0;32mraise\u001b[0m \u001b[0mKeyError\u001b[0m\u001b[0;34m(\u001b[0m\u001b[0mgpr\u001b[0m\u001b[0;34m)\u001b[0m\u001b[0;34m\u001b[0m\u001b[0;34m\u001b[0m\u001b[0m\n\u001b[0m\u001b[1;32m    599\u001b[0m         \u001b[0;32melif\u001b[0m \u001b[0misinstance\u001b[0m\u001b[0;34m(\u001b[0m\u001b[0mgpr\u001b[0m\u001b[0;34m,\u001b[0m \u001b[0mGrouper\u001b[0m\u001b[0;34m)\u001b[0m \u001b[0;32mand\u001b[0m \u001b[0mgpr\u001b[0m\u001b[0;34m.\u001b[0m\u001b[0mkey\u001b[0m \u001b[0;32mis\u001b[0m \u001b[0;32mnot\u001b[0m \u001b[0;32mNone\u001b[0m\u001b[0;34m:\u001b[0m\u001b[0;34m\u001b[0m\u001b[0;34m\u001b[0m\u001b[0m\n\u001b[1;32m    600\u001b[0m             \u001b[0;31m# Add key to exclusions\u001b[0m\u001b[0;34m\u001b[0m\u001b[0;34m\u001b[0m\u001b[0;34m\u001b[0m\u001b[0m\n",
            "\u001b[0;31mKeyError\u001b[0m: 'category'"
          ]
        }
      ]
    },
    {
      "cell_type": "code",
      "metadata": {
        "id": "t1m51SyvXbKX",
        "colab_type": "code",
        "colab": {
          "base_uri": "https://localhost:8080/",
          "height": 166
        },
        "outputId": "fc563bc0-9784-49f7-871c-eb7c815aee5d"
      },
      "source": [
        "df_cat_year.reset_index(inplace=True)"
      ],
      "execution_count": 36,
      "outputs": [
        {
          "output_type": "error",
          "ename": "NameError",
          "evalue": "ignored",
          "traceback": [
            "\u001b[0;31m---------------------------------------------------------------------------\u001b[0m",
            "\u001b[0;31mNameError\u001b[0m                                 Traceback (most recent call last)",
            "\u001b[0;32m<ipython-input-36-6ca6d6f0b436>\u001b[0m in \u001b[0;36m<module>\u001b[0;34m()\u001b[0m\n\u001b[0;32m----> 1\u001b[0;31m \u001b[0mdf_cat_year\u001b[0m\u001b[0;34m.\u001b[0m\u001b[0mreset_index\u001b[0m\u001b[0;34m(\u001b[0m\u001b[0minplace\u001b[0m\u001b[0;34m=\u001b[0m\u001b[0;32mTrue\u001b[0m\u001b[0;34m)\u001b[0m\u001b[0;34m\u001b[0m\u001b[0;34m\u001b[0m\u001b[0m\n\u001b[0m",
            "\u001b[0;31mNameError\u001b[0m: name 'df_cat_year' is not defined"
          ]
        }
      ]
    },
    {
      "cell_type": "code",
      "metadata": {
        "id": "5qdJkmmQXfx_",
        "colab_type": "code",
        "colab": {}
      },
      "source": [
        "fig1 = plt.figure(figsize=(15,25))\n",
        "fig1.subplots_adjust(hspace = 1)\n",
        "chrt = 0\n",
        "for i, group in df_cat_year.groupby('category'):\n",
        "    chrt += 1 \n",
        "    ax = fig1.add_subplot(10,4, chrt)\n",
        "    x = group['year']\n",
        "    h = group['qty']\n",
        "    ax.bar(x,h, color =\"#86A3E2\")\n",
        "    ax.set_title(str(i))"
      ],
      "execution_count": 0,
      "outputs": []
    },
    {
      "cell_type": "code",
      "metadata": {
        "id": "mbmiN3GoVEMO",
        "colab_type": "code",
        "colab": {
          "base_uri": "https://localhost:8080/",
          "height": 156
        },
        "outputId": "638bde71-eaa6-4519-b563-4ca7b8bebc41"
      },
      "source": [
        "vectorizer = TfidfVectorizer( min_df =3, max_df=0.2, max_features=None, \n",
        "                    strip_accents='unicode', analyzer='word',token_pattern=r'\\w{1,}',\n",
        "                    ngram_range=(1, 1), use_idf=1,smooth_idf=1,sublinear_tf=1,\n",
        "                    stop_words = None, preprocessor=clean_txt)\n",
        "vectorizer.fit(df.category)"
      ],
      "execution_count": 19,
      "outputs": [
        {
          "output_type": "execute_result",
          "data": {
            "text/plain": [
              "TfidfVectorizer(analyzer='word', binary=False, decode_error='strict',\n",
              "                dtype=<class 'numpy.float64'>, encoding='utf-8',\n",
              "                input='content', lowercase=True, max_df=0.2, max_features=None,\n",
              "                min_df=3, ngram_range=(1, 1), norm='l2',\n",
              "                preprocessor=<function clean_txt at 0x7f75cf68e510>,\n",
              "                smooth_idf=1, stop_words=None, strip_accents='unicode',\n",
              "                sublinear_tf=1, token_pattern='\\\\w{1,}', tokenizer=None,\n",
              "                use_idf=1, vocabulary=None)"
            ]
          },
          "metadata": {
            "tags": []
          },
          "execution_count": 19
        }
      ]
    },
    {
      "cell_type": "code",
      "metadata": {
        "trusted": true,
        "id": "8Ywah8dSMreZ",
        "colab_type": "code",
        "colab": {
          "base_uri": "https://localhost:8080/",
          "height": 401
        },
        "outputId": "0ec3f0b9-efe4-4dce-a967-f9cdf386ecfa"
      },
      "source": [
        "from sklearn.feature_extraction.text import TfidfVectorizer\n",
        "\n",
        "tfidf = TfidfVectorizer(sublinear_tf=True, min_df=5, norm='l2', encoding='latin-1', ngram_range=(1, 2), stop_words='english')\n",
        "\n",
        "features = tfidf.fit_transform(df.headline).toarray()\n",
        "labels = df.category_id\n",
        "features.shape"
      ],
      "execution_count": 18,
      "outputs": [
        {
          "output_type": "error",
          "ename": "KeyboardInterrupt",
          "evalue": "ignored",
          "traceback": [
            "\u001b[0;31m---------------------------------------------------------------------------\u001b[0m",
            "\u001b[0;31mKeyboardInterrupt\u001b[0m                         Traceback (most recent call last)",
            "\u001b[0;32m<ipython-input-18-01f3f7ed41b3>\u001b[0m in \u001b[0;36m<module>\u001b[0;34m()\u001b[0m\n\u001b[1;32m      3\u001b[0m \u001b[0mtfidf\u001b[0m \u001b[0;34m=\u001b[0m \u001b[0mTfidfVectorizer\u001b[0m\u001b[0;34m(\u001b[0m\u001b[0msublinear_tf\u001b[0m\u001b[0;34m=\u001b[0m\u001b[0;32mTrue\u001b[0m\u001b[0;34m,\u001b[0m \u001b[0mmin_df\u001b[0m\u001b[0;34m=\u001b[0m\u001b[0;36m5\u001b[0m\u001b[0;34m,\u001b[0m \u001b[0mnorm\u001b[0m\u001b[0;34m=\u001b[0m\u001b[0;34m'l2'\u001b[0m\u001b[0;34m,\u001b[0m \u001b[0mencoding\u001b[0m\u001b[0;34m=\u001b[0m\u001b[0;34m'latin-1'\u001b[0m\u001b[0;34m,\u001b[0m \u001b[0mngram_range\u001b[0m\u001b[0;34m=\u001b[0m\u001b[0;34m(\u001b[0m\u001b[0;36m1\u001b[0m\u001b[0;34m,\u001b[0m \u001b[0;36m2\u001b[0m\u001b[0;34m)\u001b[0m\u001b[0;34m,\u001b[0m \u001b[0mstop_words\u001b[0m\u001b[0;34m=\u001b[0m\u001b[0;34m'english'\u001b[0m\u001b[0;34m)\u001b[0m\u001b[0;34m\u001b[0m\u001b[0;34m\u001b[0m\u001b[0m\n\u001b[1;32m      4\u001b[0m \u001b[0;34m\u001b[0m\u001b[0m\n\u001b[0;32m----> 5\u001b[0;31m \u001b[0mfeatures\u001b[0m \u001b[0;34m=\u001b[0m \u001b[0mtfidf\u001b[0m\u001b[0;34m.\u001b[0m\u001b[0mfit_transform\u001b[0m\u001b[0;34m(\u001b[0m\u001b[0mdf\u001b[0m\u001b[0;34m.\u001b[0m\u001b[0mheadline\u001b[0m\u001b[0;34m)\u001b[0m\u001b[0;34m.\u001b[0m\u001b[0mtoarray\u001b[0m\u001b[0;34m(\u001b[0m\u001b[0;34m)\u001b[0m\u001b[0;34m\u001b[0m\u001b[0;34m\u001b[0m\u001b[0m\n\u001b[0m\u001b[1;32m      6\u001b[0m \u001b[0mlabels\u001b[0m \u001b[0;34m=\u001b[0m \u001b[0mdf\u001b[0m\u001b[0;34m.\u001b[0m\u001b[0mcategory_id\u001b[0m\u001b[0;34m\u001b[0m\u001b[0;34m\u001b[0m\u001b[0m\n\u001b[1;32m      7\u001b[0m \u001b[0mfeatures\u001b[0m\u001b[0;34m.\u001b[0m\u001b[0mshape\u001b[0m\u001b[0;34m\u001b[0m\u001b[0;34m\u001b[0m\u001b[0m\n",
            "\u001b[0;32m/usr/local/lib/python3.6/dist-packages/sklearn/feature_extraction/text.py\u001b[0m in \u001b[0;36mfit_transform\u001b[0;34m(self, raw_documents, y)\u001b[0m\n\u001b[1;32m   1857\u001b[0m         \"\"\"\n\u001b[1;32m   1858\u001b[0m         \u001b[0mself\u001b[0m\u001b[0;34m.\u001b[0m\u001b[0m_check_params\u001b[0m\u001b[0;34m(\u001b[0m\u001b[0;34m)\u001b[0m\u001b[0;34m\u001b[0m\u001b[0;34m\u001b[0m\u001b[0m\n\u001b[0;32m-> 1859\u001b[0;31m         \u001b[0mX\u001b[0m \u001b[0;34m=\u001b[0m \u001b[0msuper\u001b[0m\u001b[0;34m(\u001b[0m\u001b[0;34m)\u001b[0m\u001b[0;34m.\u001b[0m\u001b[0mfit_transform\u001b[0m\u001b[0;34m(\u001b[0m\u001b[0mraw_documents\u001b[0m\u001b[0;34m)\u001b[0m\u001b[0;34m\u001b[0m\u001b[0;34m\u001b[0m\u001b[0m\n\u001b[0m\u001b[1;32m   1860\u001b[0m         \u001b[0mself\u001b[0m\u001b[0;34m.\u001b[0m\u001b[0m_tfidf\u001b[0m\u001b[0;34m.\u001b[0m\u001b[0mfit\u001b[0m\u001b[0;34m(\u001b[0m\u001b[0mX\u001b[0m\u001b[0;34m)\u001b[0m\u001b[0;34m\u001b[0m\u001b[0;34m\u001b[0m\u001b[0m\n\u001b[1;32m   1861\u001b[0m         \u001b[0;31m# X is already a transformed view of raw_documents so\u001b[0m\u001b[0;34m\u001b[0m\u001b[0;34m\u001b[0m\u001b[0;34m\u001b[0m\u001b[0m\n",
            "\u001b[0;32m/usr/local/lib/python3.6/dist-packages/sklearn/feature_extraction/text.py\u001b[0m in \u001b[0;36mfit_transform\u001b[0;34m(self, raw_documents, y)\u001b[0m\n\u001b[1;32m   1224\u001b[0m \u001b[0;34m\u001b[0m\u001b[0m\n\u001b[1;32m   1225\u001b[0m         \u001b[0;32mif\u001b[0m \u001b[0;32mnot\u001b[0m \u001b[0mself\u001b[0m\u001b[0;34m.\u001b[0m\u001b[0mfixed_vocabulary_\u001b[0m\u001b[0;34m:\u001b[0m\u001b[0;34m\u001b[0m\u001b[0;34m\u001b[0m\u001b[0m\n\u001b[0;32m-> 1226\u001b[0;31m             \u001b[0mX\u001b[0m \u001b[0;34m=\u001b[0m \u001b[0mself\u001b[0m\u001b[0;34m.\u001b[0m\u001b[0m_sort_features\u001b[0m\u001b[0;34m(\u001b[0m\u001b[0mX\u001b[0m\u001b[0;34m,\u001b[0m \u001b[0mvocabulary\u001b[0m\u001b[0;34m)\u001b[0m\u001b[0;34m\u001b[0m\u001b[0;34m\u001b[0m\u001b[0m\n\u001b[0m\u001b[1;32m   1227\u001b[0m \u001b[0;34m\u001b[0m\u001b[0m\n\u001b[1;32m   1228\u001b[0m             \u001b[0mn_doc\u001b[0m \u001b[0;34m=\u001b[0m \u001b[0mX\u001b[0m\u001b[0;34m.\u001b[0m\u001b[0mshape\u001b[0m\u001b[0;34m[\u001b[0m\u001b[0;36m0\u001b[0m\u001b[0;34m]\u001b[0m\u001b[0;34m\u001b[0m\u001b[0;34m\u001b[0m\u001b[0m\n",
            "\u001b[0;32m/usr/local/lib/python3.6/dist-packages/sklearn/feature_extraction/text.py\u001b[0m in \u001b[0;36m_sort_features\u001b[0;34m(self, X, vocabulary)\u001b[0m\n\u001b[1;32m   1061\u001b[0m         \u001b[0mReturns\u001b[0m \u001b[0ma\u001b[0m \u001b[0mreordered\u001b[0m \u001b[0mmatrix\u001b[0m \u001b[0;32mand\u001b[0m \u001b[0mmodifies\u001b[0m \u001b[0mthe\u001b[0m \u001b[0mvocabulary\u001b[0m \u001b[0;32min\u001b[0m \u001b[0mplace\u001b[0m\u001b[0;34m\u001b[0m\u001b[0;34m\u001b[0m\u001b[0m\n\u001b[1;32m   1062\u001b[0m         \"\"\"\n\u001b[0;32m-> 1063\u001b[0;31m         \u001b[0msorted_features\u001b[0m \u001b[0;34m=\u001b[0m \u001b[0msorted\u001b[0m\u001b[0;34m(\u001b[0m\u001b[0mvocabulary\u001b[0m\u001b[0;34m.\u001b[0m\u001b[0mitems\u001b[0m\u001b[0;34m(\u001b[0m\u001b[0;34m)\u001b[0m\u001b[0;34m)\u001b[0m\u001b[0;34m\u001b[0m\u001b[0;34m\u001b[0m\u001b[0m\n\u001b[0m\u001b[1;32m   1064\u001b[0m         \u001b[0mmap_index\u001b[0m \u001b[0;34m=\u001b[0m \u001b[0mnp\u001b[0m\u001b[0;34m.\u001b[0m\u001b[0mempty\u001b[0m\u001b[0;34m(\u001b[0m\u001b[0mlen\u001b[0m\u001b[0;34m(\u001b[0m\u001b[0msorted_features\u001b[0m\u001b[0;34m)\u001b[0m\u001b[0;34m,\u001b[0m \u001b[0mdtype\u001b[0m\u001b[0;34m=\u001b[0m\u001b[0mX\u001b[0m\u001b[0;34m.\u001b[0m\u001b[0mindices\u001b[0m\u001b[0;34m.\u001b[0m\u001b[0mdtype\u001b[0m\u001b[0;34m)\u001b[0m\u001b[0;34m\u001b[0m\u001b[0;34m\u001b[0m\u001b[0m\n\u001b[1;32m   1065\u001b[0m         \u001b[0;32mfor\u001b[0m \u001b[0mnew_val\u001b[0m\u001b[0;34m,\u001b[0m \u001b[0;34m(\u001b[0m\u001b[0mterm\u001b[0m\u001b[0;34m,\u001b[0m \u001b[0mold_val\u001b[0m\u001b[0;34m)\u001b[0m \u001b[0;32min\u001b[0m \u001b[0menumerate\u001b[0m\u001b[0;34m(\u001b[0m\u001b[0msorted_features\u001b[0m\u001b[0;34m)\u001b[0m\u001b[0;34m:\u001b[0m\u001b[0;34m\u001b[0m\u001b[0;34m\u001b[0m\u001b[0m\n",
            "\u001b[0;31mKeyboardInterrupt\u001b[0m: "
          ]
        }
      ]
    },
    {
      "cell_type": "code",
      "metadata": {
        "trusted": true,
        "id": "3GKKxGb1Mrei",
        "colab_type": "code",
        "colab": {}
      },
      "source": [
        "from sklearn.feature_selection import chi2\n",
        "import numpy as np\n",
        "\n",
        "N = 2\n",
        "for category, category_id in sorted(category_to_id.items()):\n",
        "  features_chi2 = chi2(features, labels == category_id)\n",
        "  indices = np.argsort(features_chi2[0])\n",
        "  feature_names = np.array(tfidf.get_feature_names())[indices]\n",
        "  unigrams = [v for v in feature_names if len(v.split(' ')) == 1]\n",
        "  bigrams = [v for v in feature_names if len(v.split(' ')) == 2]\n",
        "  print(\"# '{}':\".format(Product))\n",
        "  print(\"  . Most correlated unigrams:\\n       . {}\".format('\\n       . '.join(unigrams[-N:])))\n",
        "  print(\"  . Most correlated bigrams:\\n       . {}\".format('\\n       . '.join(bigrams[-N:])))"
      ],
      "execution_count": 0,
      "outputs": []
    },
    {
      "cell_type": "code",
      "metadata": {
        "trusted": true,
        "id": "1PnaREFRMrep",
        "colab_type": "code",
        "colab": {}
      },
      "source": [
        "politics_df = df[df.category == 'POLITICS']\n",
        "politics_df.head()"
      ],
      "execution_count": 0,
      "outputs": []
    },
    {
      "cell_type": "code",
      "metadata": {
        "trusted": true,
        "id": "-mZGwY06Mrev",
        "colab_type": "code",
        "colab": {}
      },
      "source": [
        "politics_df['category'].value_counts().to_frame()"
      ],
      "execution_count": 0,
      "outputs": []
    },
    {
      "cell_type": "code",
      "metadata": {
        "trusted": true,
        "id": "TE8LI73UMre3",
        "colab_type": "code",
        "colab": {}
      },
      "source": [
        "# Groupby by category\n",
        "category = df.groupby(\"category\")\n",
        "category.head()"
      ],
      "execution_count": 0,
      "outputs": []
    },
    {
      "cell_type": "code",
      "metadata": {
        "trusted": true,
        "id": "C7QQw4PEMre9",
        "colab_type": "code",
        "colab": {}
      },
      "source": [
        "# Summary statistic of all category\n",
        "summary=category.describe()\n",
        "category.describe().head()"
      ],
      "execution_count": 0,
      "outputs": []
    },
    {
      "cell_type": "code",
      "metadata": {
        "trusted": true,
        "id": "T0stYA5XMrfE",
        "colab_type": "code",
        "colab": {}
      },
      "source": [
        "politics_df"
      ],
      "execution_count": 0,
      "outputs": []
    },
    {
      "cell_type": "code",
      "metadata": {
        "trusted": true,
        "id": "qpu7j_rrMrfL",
        "colab_type": "code",
        "colab": {}
      },
      "source": [
        "# Start with one review:\n",
        "politics_df[1:2]"
      ],
      "execution_count": 0,
      "outputs": []
    },
    {
      "cell_type": "code",
      "metadata": {
        "trusted": true,
        "id": "zcjAKbCBMrfR",
        "colab_type": "code",
        "colab": {}
      },
      "source": [
        "# Start with one review:\n",
        "text = str(politics_df[1:2])\n",
        "print(type(text))\n"
      ],
      "execution_count": 0,
      "outputs": []
    },
    {
      "cell_type": "code",
      "metadata": {
        "trusted": true,
        "id": "kQS52tE9MrfU",
        "colab_type": "code",
        "colab": {}
      },
      "source": [
        "# Cleaning text and lower casing all words\n",
        "for char in '-.,\\n':\n",
        "    text=text.replace(char,' ')\n",
        "text1 = text.lower()\n",
        "# split returns a list of words delimited by sequences of whitespace (including tabs, newlines, etc, like re's \\s) \n",
        "word_list = text1.split()\n",
        "word_list"
      ],
      "execution_count": 0,
      "outputs": []
    },
    {
      "cell_type": "code",
      "metadata": {
        "trusted": true,
        "id": "8YQAYSm4MrfX",
        "colab_type": "code",
        "colab": {}
      },
      "source": [
        "from collections import Counter\n",
        "Counter(word_list).most_common()"
      ],
      "execution_count": 0,
      "outputs": []
    },
    {
      "cell_type": "code",
      "metadata": {
        "trusted": true,
        "id": "YIm6QpUcMrfa",
        "colab_type": "code",
        "colab": {}
      },
      "source": [
        "\n",
        "def freq(str): \n",
        "  \n",
        "    # break the string into list of words \n",
        "    str_list = str.split() \n",
        "  \n",
        "    # gives set of unique words \n",
        "    unique_words = set(str_list) \n",
        "      \n",
        "    for words in unique_words : \n",
        "        if words != 'of' or words != 'The'and str_list.count(words) > 10 :\n",
        "            print('Frequency of ', words , 'is :', str_list.count(words)) "
      ],
      "execution_count": 0,
      "outputs": []
    },
    {
      "cell_type": "code",
      "metadata": {
        "trusted": true,
        "id": "GQ3Br8i3Mrfc",
        "colab_type": "code",
        "colab": {}
      },
      "source": [
        "# calling the freq function \n",
        "    freq(text)"
      ],
      "execution_count": 0,
      "outputs": []
    },
    {
      "cell_type": "code",
      "metadata": {
        "trusted": true,
        "id": "x5pBKeLDMrff",
        "colab_type": "code",
        "colab": {}
      },
      "source": [
        "\n",
        "words = pd.DataFrame(lst, columns=cols)\n",
        " \n",
        "print(words)"
      ],
      "execution_count": 0,
      "outputs": []
    },
    {
      "cell_type": "code",
      "metadata": {
        "trusted": true,
        "id": "ytdoNMz8Mrfj",
        "colab_type": "code",
        "colab": {}
      },
      "source": [
        "\n",
        "worddf = pd.DataFrame(word_data, columns = ['Word', 'Count'])\n",
        "worddf.head()"
      ],
      "execution_count": 0,
      "outputs": []
    },
    {
      "cell_type": "code",
      "metadata": {
        "trusted": true,
        "id": "N5L480ZdMrfl",
        "colab_type": "code",
        "colab": {}
      },
      "source": [
        "\n",
        "# Create and generate a word cloud image:\n",
        "wordcloud = WordCloud().generate(text)\n",
        "\n",
        "# Display the generated image:\n",
        "plt.imshow(wordcloud, interpolation='bilinear')\n",
        "plt.axis(\"off\")\n",
        "plt.show()"
      ],
      "execution_count": 0,
      "outputs": []
    },
    {
      "cell_type": "code",
      "metadata": {
        "trusted": true,
        "id": "gBJOwUuwMrfo",
        "colab_type": "code",
        "colab": {}
      },
      "source": [
        ""
      ],
      "execution_count": 0,
      "outputs": []
    }
  ]
}